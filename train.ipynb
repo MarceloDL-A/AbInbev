{
 "cells": [
  {
   "cell_type": "markdown",
   "metadata": {},
   "source": [
    "# Bees Data Challenge Progress\n",
    "\n",
    "- [x] **1. Problem Definition**\n",
    "    - [x] 1.1 Analyze the challenge document to extract specific objectives\n",
    "    - [x] 1.2 Formulate a clear problem statement for each objective\n",
    "\n",
    "- [x] **2. Data Collection**\n",
    "    - [x] 2.1 Request access and download the dataset from the provided link\n",
    "    - [x] 2.2 Verify the integrity and quality of the collected data\n",
    "\n",
    "- [x] **3. Data Preprocessing**\n",
    "    - [x] 3.1 Verify missing values, deciding between imputation and removal\n",
    "    - [x] 3.2 Verify outliers using appropriate statistical methods\n",
    "    - [x] 3.3 Normalize or scale numerical features\n",
    "    - [x] 3.4 Encode categorical variables into numeric formats\n",
    "\n",
    "- [x] **4. Exploratory Data Analysis (EDA)**\n",
    "    - [x] 4.1 Visualize variable distributions and identify patterns\n",
    "    - [x] 4.3 Summarize descriptive statistics for an overview of the data\n",
    "\n",
    "- [x] **5. Model Building and Evaluation**\n",
    "    - [x] 5.1 Develop a clustering model for customer segmentation\n",
    "    - [x] 5.2 Construct a predictive model for inventory management\n",
    "    - [x] 5.3 Analyze order patterns for optimization of order fulfillment\n",
    "    - [x] 5.4 Evaluate model performance using appropriate metrics\n",
    "\n",
    "- [x] **6. Conclusions and Insights for Business Improvement**\n",
    "    - [x] 6.1 Consolidate obtained insights and propose specific actions for implementation\n",
    "    - [x] 6.2 Prepare a presentation of the results for stakeholders\n",
    "\n",
    "- [x] **7. Documentation and Submission**\n",
    "    - [x] 7.1 Document the entire process in a Jupyter Notebook in detail\n",
    "    - [x] 7.2 Review the notebook to ensure it is well-structured and easy to follow\n",
    "    - [x] 7.3 Prepare the notebook for submission, following the provided instructions\n"
   ]
  },
  {
   "cell_type": "markdown",
   "metadata": {},
   "source": [
    "\n",
    "\n",
    "### Problem Definition\n",
    "\n",
    "The challenge encompasses three main areas:\n",
    "\n",
    "\n",
    "1. **Customer Segmentation:**\n",
    "   - **Objective:** To segment customers based on their ordering behavior, including aspects such as frequency, time of day, and days since prior order.\n",
    "   - **Purpose:** This segmentation will help understand customer preferences more deeply and enable the development of optimized marketing strategies tailored to different customer segments.\n",
    "\n",
    "\n",
    "2. **Inventory Management:**\n",
    "   - **Objective:** To implement a predictive model that estimates inventory levels for individual products across different departments and aisles.\n",
    "   - **Details:** The model should focus on predictive capabilities rather than mere forecasting, considering variables like the day of the week and hour of the day.\n",
    "   - **Purpose:** The model is intended to help optimize stock levels and minimize waste by ensuring that inventory matches demand patterns as closely as possible.\n",
    "\n",
    "\n",
    "3. **Order Fulfillment Optimization (Bonus Points):**\n",
    "   - **Objective:** To optimize the order fulfillment process by analyzing and improving the efficiency of operations based on factors like the day of the week and time of day when most orders are placed.\n",
    "   - **Purpose:** The goal is to ensure ensure timely and efficient deliveries to customers while minimizing operational costs.\n",
    "\n"
   ]
  },
  {
   "cell_type": "markdown",
   "metadata": {},
   "source": [
    "\n",
    "### 2. **Data Collection (Restricted to Provided Data)**\n",
    "\n",
    "Collect and work exclusively with the data provided for the challenge. Identify data sources \n",
    "within the provided dataset and ensure data quality and integrity during analysis. \n",
    "\n",
    "- [x] 2.1 Request access and download the dataset from the provided link\n",
    "- [x] 2.2 Verify the integrity and quality of the collected data\n"
   ]
  },
  {
   "cell_type": "code",
   "execution_count": 2,
   "metadata": {},
   "outputs": [],
   "source": [
    "import pandas as pd\n",
    "import numpy as np\n",
    "import missingno as mn\n",
    "import matplotlib.pyplot as plt\n",
    "import seaborn as sns"
   ]
  },
  {
   "cell_type": "code",
   "execution_count": 3,
   "metadata": {},
   "outputs": [],
   "source": [
    "aisles_df = pd.read_csv(\"data/online-shopping-dataset/aisles.csv\")\n",
    "departments_df = pd.read_csv(\"data/online-shopping-dataset/departments.csv\")\n",
    "order_products_df = pd.read_csv(\"data/online-shopping-dataset/order_products.csv\")\n",
    "orders_df = pd.read_csv(\"data/online-shopping-dataset/orders.csv\")\n",
    "products_df = pd.read_csv(\"data/online-shopping-dataset/products.csv\")"
   ]
  },
  {
   "cell_type": "code",
   "execution_count": 4,
   "metadata": {},
   "outputs": [
    {
     "name": "stdout",
     "output_type": "stream",
     "text": [
      "Dados de aisles\n"
     ]
    },
    {
     "data": {
      "text/html": [
       "<div>\n",
       "<style scoped>\n",
       "    .dataframe tbody tr th:only-of-type {\n",
       "        vertical-align: middle;\n",
       "    }\n",
       "\n",
       "    .dataframe tbody tr th {\n",
       "        vertical-align: top;\n",
       "    }\n",
       "\n",
       "    .dataframe thead th {\n",
       "        text-align: right;\n",
       "    }\n",
       "</style>\n",
       "<table border=\"1\" class=\"dataframe\">\n",
       "  <thead>\n",
       "    <tr style=\"text-align: right;\">\n",
       "      <th></th>\n",
       "      <th>aisle_id</th>\n",
       "      <th>aisle</th>\n",
       "    </tr>\n",
       "  </thead>\n",
       "  <tbody>\n",
       "    <tr>\n",
       "      <th>0</th>\n",
       "      <td>1</td>\n",
       "      <td>prepared soups salads</td>\n",
       "    </tr>\n",
       "    <tr>\n",
       "      <th>1</th>\n",
       "      <td>2</td>\n",
       "      <td>specialty cheeses</td>\n",
       "    </tr>\n",
       "    <tr>\n",
       "      <th>2</th>\n",
       "      <td>3</td>\n",
       "      <td>energy granola bars</td>\n",
       "    </tr>\n",
       "    <tr>\n",
       "      <th>3</th>\n",
       "      <td>4</td>\n",
       "      <td>instant foods</td>\n",
       "    </tr>\n",
       "    <tr>\n",
       "      <th>4</th>\n",
       "      <td>5</td>\n",
       "      <td>marinades meat preparation</td>\n",
       "    </tr>\n",
       "  </tbody>\n",
       "</table>\n",
       "</div>"
      ],
      "text/plain": [
       "   aisle_id                       aisle\n",
       "0         1       prepared soups salads\n",
       "1         2           specialty cheeses\n",
       "2         3         energy granola bars\n",
       "3         4               instant foods\n",
       "4         5  marinades meat preparation"
      ]
     },
     "metadata": {},
     "output_type": "display_data"
    },
    {
     "name": "stdout",
     "output_type": "stream",
     "text": [
      "Dados de departments\n"
     ]
    },
    {
     "data": {
      "text/html": [
       "<div>\n",
       "<style scoped>\n",
       "    .dataframe tbody tr th:only-of-type {\n",
       "        vertical-align: middle;\n",
       "    }\n",
       "\n",
       "    .dataframe tbody tr th {\n",
       "        vertical-align: top;\n",
       "    }\n",
       "\n",
       "    .dataframe thead th {\n",
       "        text-align: right;\n",
       "    }\n",
       "</style>\n",
       "<table border=\"1\" class=\"dataframe\">\n",
       "  <thead>\n",
       "    <tr style=\"text-align: right;\">\n",
       "      <th></th>\n",
       "      <th>department_id</th>\n",
       "      <th>department</th>\n",
       "    </tr>\n",
       "  </thead>\n",
       "  <tbody>\n",
       "    <tr>\n",
       "      <th>0</th>\n",
       "      <td>1</td>\n",
       "      <td>frozen</td>\n",
       "    </tr>\n",
       "    <tr>\n",
       "      <th>1</th>\n",
       "      <td>2</td>\n",
       "      <td>other</td>\n",
       "    </tr>\n",
       "    <tr>\n",
       "      <th>2</th>\n",
       "      <td>3</td>\n",
       "      <td>bakery</td>\n",
       "    </tr>\n",
       "    <tr>\n",
       "      <th>3</th>\n",
       "      <td>4</td>\n",
       "      <td>produce</td>\n",
       "    </tr>\n",
       "    <tr>\n",
       "      <th>4</th>\n",
       "      <td>5</td>\n",
       "      <td>alcohol</td>\n",
       "    </tr>\n",
       "  </tbody>\n",
       "</table>\n",
       "</div>"
      ],
      "text/plain": [
       "   department_id department\n",
       "0              1     frozen\n",
       "1              2      other\n",
       "2              3     bakery\n",
       "3              4    produce\n",
       "4              5    alcohol"
      ]
     },
     "metadata": {},
     "output_type": "display_data"
    },
    {
     "name": "stdout",
     "output_type": "stream",
     "text": [
      "Dados de order_products\n"
     ]
    },
    {
     "data": {
      "text/html": [
       "<div>\n",
       "<style scoped>\n",
       "    .dataframe tbody tr th:only-of-type {\n",
       "        vertical-align: middle;\n",
       "    }\n",
       "\n",
       "    .dataframe tbody tr th {\n",
       "        vertical-align: top;\n",
       "    }\n",
       "\n",
       "    .dataframe thead th {\n",
       "        text-align: right;\n",
       "    }\n",
       "</style>\n",
       "<table border=\"1\" class=\"dataframe\">\n",
       "  <thead>\n",
       "    <tr style=\"text-align: right;\">\n",
       "      <th></th>\n",
       "      <th>order_id</th>\n",
       "      <th>product_id</th>\n",
       "      <th>add_to_cart_order</th>\n",
       "      <th>reordered</th>\n",
       "    </tr>\n",
       "  </thead>\n",
       "  <tbody>\n",
       "    <tr>\n",
       "      <th>0</th>\n",
       "      <td>2</td>\n",
       "      <td>33120</td>\n",
       "      <td>1</td>\n",
       "      <td>1</td>\n",
       "    </tr>\n",
       "    <tr>\n",
       "      <th>1</th>\n",
       "      <td>2</td>\n",
       "      <td>28985</td>\n",
       "      <td>2</td>\n",
       "      <td>1</td>\n",
       "    </tr>\n",
       "    <tr>\n",
       "      <th>2</th>\n",
       "      <td>2</td>\n",
       "      <td>9327</td>\n",
       "      <td>3</td>\n",
       "      <td>0</td>\n",
       "    </tr>\n",
       "    <tr>\n",
       "      <th>3</th>\n",
       "      <td>2</td>\n",
       "      <td>45918</td>\n",
       "      <td>4</td>\n",
       "      <td>1</td>\n",
       "    </tr>\n",
       "    <tr>\n",
       "      <th>4</th>\n",
       "      <td>2</td>\n",
       "      <td>30035</td>\n",
       "      <td>5</td>\n",
       "      <td>0</td>\n",
       "    </tr>\n",
       "  </tbody>\n",
       "</table>\n",
       "</div>"
      ],
      "text/plain": [
       "   order_id  product_id  add_to_cart_order  reordered\n",
       "0         2       33120                  1          1\n",
       "1         2       28985                  2          1\n",
       "2         2        9327                  3          0\n",
       "3         2       45918                  4          1\n",
       "4         2       30035                  5          0"
      ]
     },
     "metadata": {},
     "output_type": "display_data"
    },
    {
     "name": "stdout",
     "output_type": "stream",
     "text": [
      "Dados de orders\n"
     ]
    },
    {
     "data": {
      "text/html": [
       "<div>\n",
       "<style scoped>\n",
       "    .dataframe tbody tr th:only-of-type {\n",
       "        vertical-align: middle;\n",
       "    }\n",
       "\n",
       "    .dataframe tbody tr th {\n",
       "        vertical-align: top;\n",
       "    }\n",
       "\n",
       "    .dataframe thead th {\n",
       "        text-align: right;\n",
       "    }\n",
       "</style>\n",
       "<table border=\"1\" class=\"dataframe\">\n",
       "  <thead>\n",
       "    <tr style=\"text-align: right;\">\n",
       "      <th></th>\n",
       "      <th>order_id</th>\n",
       "      <th>user_id</th>\n",
       "      <th>eval_set</th>\n",
       "      <th>order_number</th>\n",
       "      <th>order_dow</th>\n",
       "      <th>order_hour_of_day</th>\n",
       "      <th>days_since_prior_order</th>\n",
       "    </tr>\n",
       "  </thead>\n",
       "  <tbody>\n",
       "    <tr>\n",
       "      <th>0</th>\n",
       "      <td>2539329</td>\n",
       "      <td>1</td>\n",
       "      <td>prior</td>\n",
       "      <td>1</td>\n",
       "      <td>2</td>\n",
       "      <td>8</td>\n",
       "      <td>NaN</td>\n",
       "    </tr>\n",
       "    <tr>\n",
       "      <th>1</th>\n",
       "      <td>2398795</td>\n",
       "      <td>1</td>\n",
       "      <td>prior</td>\n",
       "      <td>2</td>\n",
       "      <td>3</td>\n",
       "      <td>7</td>\n",
       "      <td>15.0</td>\n",
       "    </tr>\n",
       "    <tr>\n",
       "      <th>2</th>\n",
       "      <td>473747</td>\n",
       "      <td>1</td>\n",
       "      <td>prior</td>\n",
       "      <td>3</td>\n",
       "      <td>3</td>\n",
       "      <td>12</td>\n",
       "      <td>21.0</td>\n",
       "    </tr>\n",
       "    <tr>\n",
       "      <th>3</th>\n",
       "      <td>2254736</td>\n",
       "      <td>1</td>\n",
       "      <td>prior</td>\n",
       "      <td>4</td>\n",
       "      <td>4</td>\n",
       "      <td>7</td>\n",
       "      <td>29.0</td>\n",
       "    </tr>\n",
       "    <tr>\n",
       "      <th>4</th>\n",
       "      <td>431534</td>\n",
       "      <td>1</td>\n",
       "      <td>prior</td>\n",
       "      <td>5</td>\n",
       "      <td>4</td>\n",
       "      <td>15</td>\n",
       "      <td>28.0</td>\n",
       "    </tr>\n",
       "  </tbody>\n",
       "</table>\n",
       "</div>"
      ],
      "text/plain": [
       "   order_id  user_id eval_set  order_number  order_dow  order_hour_of_day  \\\n",
       "0   2539329        1    prior             1          2                  8   \n",
       "1   2398795        1    prior             2          3                  7   \n",
       "2    473747        1    prior             3          3                 12   \n",
       "3   2254736        1    prior             4          4                  7   \n",
       "4    431534        1    prior             5          4                 15   \n",
       "\n",
       "   days_since_prior_order  \n",
       "0                     NaN  \n",
       "1                    15.0  \n",
       "2                    21.0  \n",
       "3                    29.0  \n",
       "4                    28.0  "
      ]
     },
     "metadata": {},
     "output_type": "display_data"
    },
    {
     "name": "stdout",
     "output_type": "stream",
     "text": [
      "Dados de products\n"
     ]
    },
    {
     "data": {
      "text/html": [
       "<div>\n",
       "<style scoped>\n",
       "    .dataframe tbody tr th:only-of-type {\n",
       "        vertical-align: middle;\n",
       "    }\n",
       "\n",
       "    .dataframe tbody tr th {\n",
       "        vertical-align: top;\n",
       "    }\n",
       "\n",
       "    .dataframe thead th {\n",
       "        text-align: right;\n",
       "    }\n",
       "</style>\n",
       "<table border=\"1\" class=\"dataframe\">\n",
       "  <thead>\n",
       "    <tr style=\"text-align: right;\">\n",
       "      <th></th>\n",
       "      <th>product_id</th>\n",
       "      <th>product_name</th>\n",
       "      <th>aisle_id</th>\n",
       "      <th>department_id</th>\n",
       "    </tr>\n",
       "  </thead>\n",
       "  <tbody>\n",
       "    <tr>\n",
       "      <th>0</th>\n",
       "      <td>1</td>\n",
       "      <td>Chocolate Sandwich Cookies</td>\n",
       "      <td>61</td>\n",
       "      <td>19</td>\n",
       "    </tr>\n",
       "    <tr>\n",
       "      <th>1</th>\n",
       "      <td>2</td>\n",
       "      <td>All-Seasons Salt</td>\n",
       "      <td>104</td>\n",
       "      <td>13</td>\n",
       "    </tr>\n",
       "    <tr>\n",
       "      <th>2</th>\n",
       "      <td>3</td>\n",
       "      <td>Robust Golden Unsweetened Oolong Tea</td>\n",
       "      <td>94</td>\n",
       "      <td>7</td>\n",
       "    </tr>\n",
       "    <tr>\n",
       "      <th>3</th>\n",
       "      <td>4</td>\n",
       "      <td>Smart Ones Classic Favorites Mini Rigatoni Wit...</td>\n",
       "      <td>38</td>\n",
       "      <td>1</td>\n",
       "    </tr>\n",
       "    <tr>\n",
       "      <th>4</th>\n",
       "      <td>5</td>\n",
       "      <td>Green Chile Anytime Sauce</td>\n",
       "      <td>5</td>\n",
       "      <td>13</td>\n",
       "    </tr>\n",
       "  </tbody>\n",
       "</table>\n",
       "</div>"
      ],
      "text/plain": [
       "   product_id                                       product_name  aisle_id  \\\n",
       "0           1                         Chocolate Sandwich Cookies        61   \n",
       "1           2                                   All-Seasons Salt       104   \n",
       "2           3               Robust Golden Unsweetened Oolong Tea        94   \n",
       "3           4  Smart Ones Classic Favorites Mini Rigatoni Wit...        38   \n",
       "4           5                          Green Chile Anytime Sauce         5   \n",
       "\n",
       "   department_id  \n",
       "0             19  \n",
       "1             13  \n",
       "2              7  \n",
       "3              1  \n",
       "4             13  "
      ]
     },
     "metadata": {},
     "output_type": "display_data"
    }
   ],
   "source": [
    "df_dict = {\"aisles\": aisles_df,\n",
    "\"departments\": departments_df,\n",
    "\"order_products\": order_products_df,\n",
    "\"orders\": orders_df,\n",
    "\"products\": products_df}\n",
    "for name, df in df_dict.items():\n",
    "    print(f\"Dados de {name}\")\n",
    "    display(df.head(5))"
   ]
  },
  {
   "cell_type": "markdown",
   "metadata": {},
   "source": [
    "\n",
    "# **3. Data Preprocessing**\n",
    "\n",
    "- [x] 3.1 Filter: prior data\n",
    "\n",
    "- [x] 3.2 Verify duplicates\n",
    "\n",
    "- [x] 3.3 Verify missing values\n",
    "\n",
    "The missing data corresponds to `days_since_prior_order` for customers who have not yet placed their first order.\n",
    "\n",
    "\n",
    "- [x] 3.4 Verify outliers \n",
    "\n",
    "- [x] 3.5 Data merge\n",
    "\n"
   ]
  },
  {
   "cell_type": "markdown",
   "metadata": {},
   "source": [
    "### **3.1. Filter: prior data**"
   ]
  },
  {
   "cell_type": "code",
   "execution_count": 5,
   "metadata": {},
   "outputs": [
    {
     "data": {
      "text/plain": [
       "131209"
      ]
     },
     "execution_count": 5,
     "metadata": {},
     "output_type": "execute_result"
    }
   ],
   "source": [
    "orders_df = orders_df[orders_df.eval_set == \"train\"]\n",
    "len(orders_df)"
   ]
  },
  {
   "cell_type": "markdown",
   "metadata": {},
   "source": [
    "### **3.2. Verify duplicates**"
   ]
  },
  {
   "cell_type": "code",
   "execution_count": 6,
   "metadata": {},
   "outputs": [
    {
     "name": "stdout",
     "output_type": "stream",
     "text": [
      "aisles has 0 duplicated rows.\n",
      "departments has 0 duplicated rows.\n",
      "order_products has 0 duplicated rows.\n",
      "orders has 0 duplicated rows.\n",
      "products has 0 duplicated rows.\n"
     ]
    }
   ],
   "source": [
    "df_dict = {\"aisles\": aisles_df,\n",
    "\"departments\": departments_df,\n",
    "\"order_products\": order_products_df,\n",
    "\"orders\": orders_df,\n",
    "\"products\": products_df}\n",
    "\n",
    "# Check and print the number of duplicated rows for each DataFrame\n",
    "for name, df in df_dict.items():\n",
    "    # Using duplicated().sum() to count duplicate rows\n",
    "    duplicated_rows = df.duplicated().sum()\n",
    "    print(f'{name} has {duplicated_rows} duplicated rows.')"
   ]
  },
  {
   "cell_type": "markdown",
   "metadata": {},
   "source": [
    "### **3.3. Verify missing values**"
   ]
  },
  {
   "cell_type": "code",
   "execution_count": 7,
   "metadata": {},
   "outputs": [
    {
     "name": "stdout",
     "output_type": "stream",
     "text": [
      "Dados de aisles\n"
     ]
    },
    {
     "data": {
      "text/html": [
       "<div>\n",
       "<style scoped>\n",
       "    .dataframe tbody tr th:only-of-type {\n",
       "        vertical-align: middle;\n",
       "    }\n",
       "\n",
       "    .dataframe tbody tr th {\n",
       "        vertical-align: top;\n",
       "    }\n",
       "\n",
       "    .dataframe thead th {\n",
       "        text-align: right;\n",
       "    }\n",
       "</style>\n",
       "<table border=\"1\" class=\"dataframe\">\n",
       "  <thead>\n",
       "    <tr style=\"text-align: right;\">\n",
       "      <th></th>\n",
       "      <th>aisle_id</th>\n",
       "      <th>aisle</th>\n",
       "    </tr>\n",
       "  </thead>\n",
       "  <tbody>\n",
       "    <tr>\n",
       "      <th>0</th>\n",
       "      <td>1</td>\n",
       "      <td>prepared soups salads</td>\n",
       "    </tr>\n",
       "    <tr>\n",
       "      <th>1</th>\n",
       "      <td>2</td>\n",
       "      <td>specialty cheeses</td>\n",
       "    </tr>\n",
       "    <tr>\n",
       "      <th>2</th>\n",
       "      <td>3</td>\n",
       "      <td>energy granola bars</td>\n",
       "    </tr>\n",
       "    <tr>\n",
       "      <th>3</th>\n",
       "      <td>4</td>\n",
       "      <td>instant foods</td>\n",
       "    </tr>\n",
       "    <tr>\n",
       "      <th>4</th>\n",
       "      <td>5</td>\n",
       "      <td>marinades meat preparation</td>\n",
       "    </tr>\n",
       "  </tbody>\n",
       "</table>\n",
       "</div>"
      ],
      "text/plain": [
       "   aisle_id                       aisle\n",
       "0         1       prepared soups salads\n",
       "1         2           specialty cheeses\n",
       "2         3         energy granola bars\n",
       "3         4               instant foods\n",
       "4         5  marinades meat preparation"
      ]
     },
     "metadata": {},
     "output_type": "display_data"
    },
    {
     "name": "stdout",
     "output_type": "stream",
     "text": [
      "Unique values\n"
     ]
    },
    {
     "data": {
      "text/plain": [
       "aisle_id    134\n",
       "aisle       134\n",
       "dtype: int64"
      ]
     },
     "metadata": {},
     "output_type": "display_data"
    },
    {
     "data": {
      "text/plain": [
       "<Axes: >"
      ]
     },
     "metadata": {},
     "output_type": "display_data"
    },
    {
     "data": {
      "image/png": "[encoded data removed]",
      "text/plain": [
       "<Figure size 2500x1000 with 3 Axes>"
      ]
     },
     "metadata": {},
     "output_type": "display_data"
    },
    {
     "name": "stdout",
     "output_type": "stream",
     "text": [
      "<class 'pandas.core.frame.DataFrame'>\n",
      "RangeIndex: 134 entries, 0 to 133\n",
      "Data columns (total 2 columns):\n",
      " #   Column    Non-Null Count  Dtype \n",
      "---  ------    --------------  ----- \n",
      " 0   aisle_id  134 non-null    int64 \n",
      " 1   aisle     134 non-null    object\n",
      "dtypes: int64(1), object(1)\n",
      "memory usage: 2.2+ KB\n"
     ]
    },
    {
     "data": {
      "text/plain": [
       "None"
      ]
     },
     "metadata": {},
     "output_type": "display_data"
    },
    {
     "name": "stdout",
     "output_type": "stream",
     "text": [
      "----------------------------------------------------------------------------------------------------\n",
      "Dados de departments\n"
     ]
    },
    {
     "data": {
      "text/html": [
       "<div>\n",
       "<style scoped>\n",
       "    .dataframe tbody tr th:only-of-type {\n",
       "        vertical-align: middle;\n",
       "    }\n",
       "\n",
       "    .dataframe tbody tr th {\n",
       "        vertical-align: top;\n",
       "    }\n",
       "\n",
       "    .dataframe thead th {\n",
       "        text-align: right;\n",
       "    }\n",
       "</style>\n",
       "<table border=\"1\" class=\"dataframe\">\n",
       "  <thead>\n",
       "    <tr style=\"text-align: right;\">\n",
       "      <th></th>\n",
       "      <th>department_id</th>\n",
       "      <th>department</th>\n",
       "    </tr>\n",
       "  </thead>\n",
       "  <tbody>\n",
       "    <tr>\n",
       "      <th>0</th>\n",
       "      <td>1</td>\n",
       "      <td>frozen</td>\n",
       "    </tr>\n",
       "    <tr>\n",
       "      <th>1</th>\n",
       "      <td>2</td>\n",
       "      <td>other</td>\n",
       "    </tr>\n",
       "    <tr>\n",
       "      <th>2</th>\n",
       "      <td>3</td>\n",
       "      <td>bakery</td>\n",
       "    </tr>\n",
       "    <tr>\n",
       "      <th>3</th>\n",
       "      <td>4</td>\n",
       "      <td>produce</td>\n",
       "    </tr>\n",
       "    <tr>\n",
       "      <th>4</th>\n",
       "      <td>5</td>\n",
       "      <td>alcohol</td>\n",
       "    </tr>\n",
       "  </tbody>\n",
       "</table>\n",
       "</div>"
      ],
      "text/plain": [
       "   department_id department\n",
       "0              1     frozen\n",
       "1              2      other\n",
       "2              3     bakery\n",
       "3              4    produce\n",
       "4              5    alcohol"
      ]
     },
     "metadata": {},
     "output_type": "display_data"
    },
    {
     "name": "stdout",
     "output_type": "stream",
     "text": [
      "Unique values\n"
     ]
    },
    {
     "data": {
      "text/plain": [
       "department_id    21\n",
       "department       21\n",
       "dtype: int64"
      ]
     },
     "metadata": {},
     "output_type": "display_data"
    },
    {
     "data": {
      "text/plain": [
       "<Axes: >"
      ]
     },
     "metadata": {},
     "output_type": "display_data"
    },
    {
     "data": {
      "image/png": "[encoded data removed]",
      "text/plain": [
       "<Figure size 2500x1000 with 3 Axes>"
      ]
     },
     "metadata": {},
     "output_type": "display_data"
    },
    {
     "name": "stdout",
     "output_type": "stream",
     "text": [
      "<class 'pandas.core.frame.DataFrame'>\n",
      "RangeIndex: 21 entries, 0 to 20\n",
      "Data columns (total 2 columns):\n",
      " #   Column         Non-Null Count  Dtype \n",
      "---  ------         --------------  ----- \n",
      " 0   department_id  21 non-null     int64 \n",
      " 1   department     21 non-null     object\n",
      "dtypes: int64(1), object(1)\n",
      "memory usage: 468.0+ bytes\n"
     ]
    },
    {
     "data": {
      "text/plain": [
       "None"
      ]
     },
     "metadata": {},
     "output_type": "display_data"
    },
    {
     "name": "stdout",
     "output_type": "stream",
     "text": [
      "----------------------------------------------------------------------------------------------------\n",
      "Dados de order_products\n"
     ]
    },
    {
     "data": {
      "text/html": [
       "<div>\n",
       "<style scoped>\n",
       "    .dataframe tbody tr th:only-of-type {\n",
       "        vertical-align: middle;\n",
       "    }\n",
       "\n",
       "    .dataframe tbody tr th {\n",
       "        vertical-align: top;\n",
       "    }\n",
       "\n",
       "    .dataframe thead th {\n",
       "        text-align: right;\n",
       "    }\n",
       "</style>\n",
       "<table border=\"1\" class=\"dataframe\">\n",
       "  <thead>\n",
       "    <tr style=\"text-align: right;\">\n",
       "      <th></th>\n",
       "      <th>order_id</th>\n",
       "      <th>product_id</th>\n",
       "      <th>add_to_cart_order</th>\n",
       "      <th>reordered</th>\n",
       "    </tr>\n",
       "  </thead>\n",
       "  <tbody>\n",
       "    <tr>\n",
       "      <th>0</th>\n",
       "      <td>2</td>\n",
       "      <td>33120</td>\n",
       "      <td>1</td>\n",
       "      <td>1</td>\n",
       "    </tr>\n",
       "    <tr>\n",
       "      <th>1</th>\n",
       "      <td>2</td>\n",
       "      <td>28985</td>\n",
       "      <td>2</td>\n",
       "      <td>1</td>\n",
       "    </tr>\n",
       "    <tr>\n",
       "      <th>2</th>\n",
       "      <td>2</td>\n",
       "      <td>9327</td>\n",
       "      <td>3</td>\n",
       "      <td>0</td>\n",
       "    </tr>\n",
       "    <tr>\n",
       "      <th>3</th>\n",
       "      <td>2</td>\n",
       "      <td>45918</td>\n",
       "      <td>4</td>\n",
       "      <td>1</td>\n",
       "    </tr>\n",
       "    <tr>\n",
       "      <th>4</th>\n",
       "      <td>2</td>\n",
       "      <td>30035</td>\n",
       "      <td>5</td>\n",
       "      <td>0</td>\n",
       "    </tr>\n",
       "  </tbody>\n",
       "</table>\n",
       "</div>"
      ],
      "text/plain": [
       "   order_id  product_id  add_to_cart_order  reordered\n",
       "0         2       33120                  1          1\n",
       "1         2       28985                  2          1\n",
       "2         2        9327                  3          0\n",
       "3         2       45918                  4          1\n",
       "4         2       30035                  5          0"
      ]
     },
     "metadata": {},
     "output_type": "display_data"
    },
    {
     "name": "stdout",
     "output_type": "stream",
     "text": [
      "Unique values\n"
     ]
    },
    {
     "data": {
      "text/plain": [
       "order_id             3346083\n",
       "product_id             49685\n",
       "add_to_cart_order        145\n",
       "reordered                  2\n",
       "dtype: int64"
      ]
     },
     "metadata": {},
     "output_type": "display_data"
    },
    {
     "data": {
      "text/plain": [
       "<Axes: >"
      ]
     },
     "metadata": {},
     "output_type": "display_data"
    },
    {
     "data": {
      "image/png": "[encoded data removed]",
      "text/plain": [
       "<Figure size 2500x1000 with 3 Axes>"
      ]
     },
     "metadata": {},
     "output_type": "display_data"
    },
    {
     "name": "stdout",
     "output_type": "stream",
     "text": [
      "<class 'pandas.core.frame.DataFrame'>\n",
      "RangeIndex: 33819106 entries, 0 to 33819105\n",
      "Data columns (total 4 columns):\n",
      " #   Column             Non-Null Count     Dtype\n",
      "---  ------             --------------     -----\n",
      " 0   order_id           33819106 non-null  int64\n",
      " 1   product_id         33819106 non-null  int64\n",
      " 2   add_to_cart_order  33819106 non-null  int64\n",
      " 3   reordered          33819106 non-null  int64\n",
      "dtypes: int64(4)\n",
      "memory usage: 1.0 GB\n"
     ]
    },
    {
     "data": {
      "text/plain": [
       "None"
      ]
     },
     "metadata": {},
     "output_type": "display_data"
    },
    {
     "name": "stdout",
     "output_type": "stream",
     "text": [
      "----------------------------------------------------------------------------------------------------\n",
      "Dados de orders\n"
     ]
    },
    {
     "data": {
      "text/html": [
       "<div>\n",
       "<style scoped>\n",
       "    .dataframe tbody tr th:only-of-type {\n",
       "        vertical-align: middle;\n",
       "    }\n",
       "\n",
       "    .dataframe tbody tr th {\n",
       "        vertical-align: top;\n",
       "    }\n",
       "\n",
       "    .dataframe thead th {\n",
       "        text-align: right;\n",
       "    }\n",
       "</style>\n",
       "<table border=\"1\" class=\"dataframe\">\n",
       "  <thead>\n",
       "    <tr style=\"text-align: right;\">\n",
       "      <th></th>\n",
       "      <th>order_id</th>\n",
       "      <th>user_id</th>\n",
       "      <th>eval_set</th>\n",
       "      <th>order_number</th>\n",
       "      <th>order_dow</th>\n",
       "      <th>order_hour_of_day</th>\n",
       "      <th>days_since_prior_order</th>\n",
       "    </tr>\n",
       "  </thead>\n",
       "  <tbody>\n",
       "    <tr>\n",
       "      <th>10</th>\n",
       "      <td>1187899</td>\n",
       "      <td>1</td>\n",
       "      <td>train</td>\n",
       "      <td>11</td>\n",
       "      <td>4</td>\n",
       "      <td>8</td>\n",
       "      <td>14.0</td>\n",
       "    </tr>\n",
       "    <tr>\n",
       "      <th>25</th>\n",
       "      <td>1492625</td>\n",
       "      <td>2</td>\n",
       "      <td>train</td>\n",
       "      <td>15</td>\n",
       "      <td>1</td>\n",
       "      <td>11</td>\n",
       "      <td>30.0</td>\n",
       "    </tr>\n",
       "    <tr>\n",
       "      <th>47</th>\n",
       "      <td>2196797</td>\n",
       "      <td>5</td>\n",
       "      <td>train</td>\n",
       "      <td>5</td>\n",
       "      <td>0</td>\n",
       "      <td>11</td>\n",
       "      <td>6.0</td>\n",
       "    </tr>\n",
       "    <tr>\n",
       "      <th>71</th>\n",
       "      <td>525192</td>\n",
       "      <td>7</td>\n",
       "      <td>train</td>\n",
       "      <td>21</td>\n",
       "      <td>2</td>\n",
       "      <td>11</td>\n",
       "      <td>6.0</td>\n",
       "    </tr>\n",
       "    <tr>\n",
       "      <th>75</th>\n",
       "      <td>880375</td>\n",
       "      <td>8</td>\n",
       "      <td>train</td>\n",
       "      <td>4</td>\n",
       "      <td>1</td>\n",
       "      <td>14</td>\n",
       "      <td>10.0</td>\n",
       "    </tr>\n",
       "  </tbody>\n",
       "</table>\n",
       "</div>"
      ],
      "text/plain": [
       "    order_id  user_id eval_set  order_number  order_dow  order_hour_of_day  \\\n",
       "10   1187899        1    train            11          4                  8   \n",
       "25   1492625        2    train            15          1                 11   \n",
       "47   2196797        5    train             5          0                 11   \n",
       "71    525192        7    train            21          2                 11   \n",
       "75    880375        8    train             4          1                 14   \n",
       "\n",
       "    days_since_prior_order  \n",
       "10                    14.0  \n",
       "25                    30.0  \n",
       "47                     6.0  \n",
       "71                     6.0  \n",
       "75                    10.0  "
      ]
     },
     "metadata": {},
     "output_type": "display_data"
    },
    {
     "name": "stdout",
     "output_type": "stream",
     "text": [
      "Unique values\n"
     ]
    },
    {
     "data": {
      "text/plain": [
       "order_id                  131209\n",
       "user_id                   131209\n",
       "eval_set                       1\n",
       "order_number                  97\n",
       "order_dow                      7\n",
       "order_hour_of_day             24\n",
       "days_since_prior_order        31\n",
       "dtype: int64"
      ]
     },
     "metadata": {},
     "output_type": "display_data"
    },
    {
     "data": {
      "text/plain": [
       "<Axes: >"
      ]
     },
     "metadata": {},
     "output_type": "display_data"
    },
    {
     "data": {
      "image/png": "[encoded data removed]",
      "text/plain": [
       "<Figure size 2500x1000 with 3 Axes>"
      ]
     },
     "metadata": {},
     "output_type": "display_data"
    },
    {
     "name": "stdout",
     "output_type": "stream",
     "text": [
      "<class 'pandas.core.frame.DataFrame'>\n",
      "Index: 131209 entries, 10 to 3346082\n",
      "Data columns (total 7 columns):\n",
      " #   Column                  Non-Null Count   Dtype  \n",
      "---  ------                  --------------   -----  \n",
      " 0   order_id                131209 non-null  int64  \n",
      " 1   user_id                 131209 non-null  int64  \n",
      " 2   eval_set                131209 non-null  object \n",
      " 3   order_number            131209 non-null  int64  \n",
      " 4   order_dow               131209 non-null  int64  \n",
      " 5   order_hour_of_day       131209 non-null  int64  \n",
      " 6   days_since_prior_order  131209 non-null  float64\n",
      "dtypes: float64(1), int64(5), object(1)\n",
      "memory usage: 8.0+ MB\n"
     ]
    },
    {
     "data": {
      "text/plain": [
       "None"
      ]
     },
     "metadata": {},
     "output_type": "display_data"
    },
    {
     "name": "stdout",
     "output_type": "stream",
     "text": [
      "----------------------------------------------------------------------------------------------------\n",
      "Dados de products\n"
     ]
    },
    {
     "data": {
      "text/html": [
       "<div>\n",
       "<style scoped>\n",
       "    .dataframe tbody tr th:only-of-type {\n",
       "        vertical-align: middle;\n",
       "    }\n",
       "\n",
       "    .dataframe tbody tr th {\n",
       "        vertical-align: top;\n",
       "    }\n",
       "\n",
       "    .dataframe thead th {\n",
       "        text-align: right;\n",
       "    }\n",
       "</style>\n",
       "<table border=\"1\" class=\"dataframe\">\n",
       "  <thead>\n",
       "    <tr style=\"text-align: right;\">\n",
       "      <th></th>\n",
       "      <th>product_id</th>\n",
       "      <th>product_name</th>\n",
       "      <th>aisle_id</th>\n",
       "      <th>department_id</th>\n",
       "    </tr>\n",
       "  </thead>\n",
       "  <tbody>\n",
       "    <tr>\n",
       "      <th>0</th>\n",
       "      <td>1</td>\n",
       "      <td>Chocolate Sandwich Cookies</td>\n",
       "      <td>61</td>\n",
       "      <td>19</td>\n",
       "    </tr>\n",
       "    <tr>\n",
       "      <th>1</th>\n",
       "      <td>2</td>\n",
       "      <td>All-Seasons Salt</td>\n",
       "      <td>104</td>\n",
       "      <td>13</td>\n",
       "    </tr>\n",
       "    <tr>\n",
       "      <th>2</th>\n",
       "      <td>3</td>\n",
       "      <td>Robust Golden Unsweetened Oolong Tea</td>\n",
       "      <td>94</td>\n",
       "      <td>7</td>\n",
       "    </tr>\n",
       "    <tr>\n",
       "      <th>3</th>\n",
       "      <td>4</td>\n",
       "      <td>Smart Ones Classic Favorites Mini Rigatoni Wit...</td>\n",
       "      <td>38</td>\n",
       "      <td>1</td>\n",
       "    </tr>\n",
       "    <tr>\n",
       "      <th>4</th>\n",
       "      <td>5</td>\n",
       "      <td>Green Chile Anytime Sauce</td>\n",
       "      <td>5</td>\n",
       "      <td>13</td>\n",
       "    </tr>\n",
       "  </tbody>\n",
       "</table>\n",
       "</div>"
      ],
      "text/plain": [
       "   product_id                                       product_name  aisle_id  \\\n",
       "0           1                         Chocolate Sandwich Cookies        61   \n",
       "1           2                                   All-Seasons Salt       104   \n",
       "2           3               Robust Golden Unsweetened Oolong Tea        94   \n",
       "3           4  Smart Ones Classic Favorites Mini Rigatoni Wit...        38   \n",
       "4           5                          Green Chile Anytime Sauce         5   \n",
       "\n",
       "   department_id  \n",
       "0             19  \n",
       "1             13  \n",
       "2              7  \n",
       "3              1  \n",
       "4             13  "
      ]
     },
     "metadata": {},
     "output_type": "display_data"
    },
    {
     "name": "stdout",
     "output_type": "stream",
     "text": [
      "Unique values\n"
     ]
    },
    {
     "data": {
      "text/plain": [
       "product_id       49688\n",
       "product_name     49688\n",
       "aisle_id           134\n",
       "department_id       21\n",
       "dtype: int64"
      ]
     },
     "metadata": {},
     "output_type": "display_data"
    },
    {
     "data": {
      "text/plain": [
       "<Axes: >"
      ]
     },
     "metadata": {},
     "output_type": "display_data"
    },
    {
     "data": {
      "image/png": "[encoded data removed]",
      "text/plain": [
       "<Figure size 2500x1000 with 3 Axes>"
      ]
     },
     "metadata": {},
     "output_type": "display_data"
    },
    {
     "name": "stdout",
     "output_type": "stream",
     "text": [
      "<class 'pandas.core.frame.DataFrame'>\n",
      "RangeIndex: 49688 entries, 0 to 49687\n",
      "Data columns (total 4 columns):\n",
      " #   Column         Non-Null Count  Dtype \n",
      "---  ------         --------------  ----- \n",
      " 0   product_id     49688 non-null  int64 \n",
      " 1   product_name   49688 non-null  object\n",
      " 2   aisle_id       49688 non-null  int64 \n",
      " 3   department_id  49688 non-null  int64 \n",
      "dtypes: int64(3), object(1)\n",
      "memory usage: 1.5+ MB\n"
     ]
    },
    {
     "data": {
      "text/plain": [
       "None"
      ]
     },
     "metadata": {},
     "output_type": "display_data"
    },
    {
     "name": "stdout",
     "output_type": "stream",
     "text": [
      "----------------------------------------------------------------------------------------------------\n"
     ]
    }
   ],
   "source": [
    "for name, df in df_dict.items():\n",
    "    print(f\"Dados de {name}\")\n",
    "    display(df.head(5))\n",
    "    print(\"Unique values\")\n",
    "    display(df.nunique())\n",
    "    display(mn.bar(df))\n",
    "    plt.show()\n",
    "    display(df.info(show_counts=True))\n",
    "    print(\"-\"*100)\n",
    "    \n"
   ]
  },
  {
   "cell_type": "code",
   "execution_count": 8,
   "metadata": {},
   "outputs": [
    {
     "data": {
      "text/html": [
       "<div>\n",
       "<style scoped>\n",
       "    .dataframe tbody tr th:only-of-type {\n",
       "        vertical-align: middle;\n",
       "    }\n",
       "\n",
       "    .dataframe tbody tr th {\n",
       "        vertical-align: top;\n",
       "    }\n",
       "\n",
       "    .dataframe thead th {\n",
       "        text-align: right;\n",
       "    }\n",
       "</style>\n",
       "<table border=\"1\" class=\"dataframe\">\n",
       "  <thead>\n",
       "    <tr style=\"text-align: right;\">\n",
       "      <th></th>\n",
       "      <th>order_id</th>\n",
       "      <th>user_id</th>\n",
       "      <th>eval_set</th>\n",
       "      <th>order_number</th>\n",
       "      <th>order_dow</th>\n",
       "      <th>order_hour_of_day</th>\n",
       "      <th>days_since_prior_order</th>\n",
       "    </tr>\n",
       "  </thead>\n",
       "  <tbody>\n",
       "    <tr>\n",
       "      <th>10</th>\n",
       "      <td>1187899</td>\n",
       "      <td>1</td>\n",
       "      <td>train</td>\n",
       "      <td>11</td>\n",
       "      <td>4</td>\n",
       "      <td>8</td>\n",
       "      <td>14.0</td>\n",
       "    </tr>\n",
       "    <tr>\n",
       "      <th>25</th>\n",
       "      <td>1492625</td>\n",
       "      <td>2</td>\n",
       "      <td>train</td>\n",
       "      <td>15</td>\n",
       "      <td>1</td>\n",
       "      <td>11</td>\n",
       "      <td>30.0</td>\n",
       "    </tr>\n",
       "    <tr>\n",
       "      <th>47</th>\n",
       "      <td>2196797</td>\n",
       "      <td>5</td>\n",
       "      <td>train</td>\n",
       "      <td>5</td>\n",
       "      <td>0</td>\n",
       "      <td>11</td>\n",
       "      <td>6.0</td>\n",
       "    </tr>\n",
       "    <tr>\n",
       "      <th>71</th>\n",
       "      <td>525192</td>\n",
       "      <td>7</td>\n",
       "      <td>train</td>\n",
       "      <td>21</td>\n",
       "      <td>2</td>\n",
       "      <td>11</td>\n",
       "      <td>6.0</td>\n",
       "    </tr>\n",
       "    <tr>\n",
       "      <th>75</th>\n",
       "      <td>880375</td>\n",
       "      <td>8</td>\n",
       "      <td>train</td>\n",
       "      <td>4</td>\n",
       "      <td>1</td>\n",
       "      <td>14</td>\n",
       "      <td>10.0</td>\n",
       "    </tr>\n",
       "  </tbody>\n",
       "</table>\n",
       "</div>"
      ],
      "text/plain": [
       "    order_id  user_id eval_set  order_number  order_dow  order_hour_of_day  \\\n",
       "10   1187899        1    train            11          4                  8   \n",
       "25   1492625        2    train            15          1                 11   \n",
       "47   2196797        5    train             5          0                 11   \n",
       "71    525192        7    train            21          2                 11   \n",
       "75    880375        8    train             4          1                 14   \n",
       "\n",
       "    days_since_prior_order  \n",
       "10                    14.0  \n",
       "25                    30.0  \n",
       "47                     6.0  \n",
       "71                     6.0  \n",
       "75                    10.0  "
      ]
     },
     "execution_count": 8,
     "metadata": {},
     "output_type": "execute_result"
    }
   ],
   "source": [
    "# orders details\n",
    "\n",
    "orders_df.head()"
   ]
  },
  {
   "cell_type": "code",
   "execution_count": 9,
   "metadata": {},
   "outputs": [
    {
     "data": {
      "text/plain": [
       "eval_set\n",
       "train    131209\n",
       "Name: count, dtype: int64"
      ]
     },
     "execution_count": 9,
     "metadata": {},
     "output_type": "execute_result"
    }
   ],
   "source": [
    "orders_df.eval_set.value_counts()"
   ]
  },
  {
   "cell_type": "code",
   "execution_count": 10,
   "metadata": {},
   "outputs": [
    {
     "data": {
      "text/html": [
       "<div>\n",
       "<style scoped>\n",
       "    .dataframe tbody tr th:only-of-type {\n",
       "        vertical-align: middle;\n",
       "    }\n",
       "\n",
       "    .dataframe tbody tr th {\n",
       "        vertical-align: top;\n",
       "    }\n",
       "\n",
       "    .dataframe thead th {\n",
       "        text-align: right;\n",
       "    }\n",
       "</style>\n",
       "<table border=\"1\" class=\"dataframe\">\n",
       "  <thead>\n",
       "    <tr style=\"text-align: right;\">\n",
       "      <th></th>\n",
       "      <th>order_id</th>\n",
       "      <th>product_id</th>\n",
       "      <th>add_to_cart_order</th>\n",
       "      <th>reordered</th>\n",
       "    </tr>\n",
       "  </thead>\n",
       "  <tbody>\n",
       "    <tr>\n",
       "      <th>0</th>\n",
       "      <td>2</td>\n",
       "      <td>33120</td>\n",
       "      <td>1</td>\n",
       "      <td>1</td>\n",
       "    </tr>\n",
       "    <tr>\n",
       "      <th>1</th>\n",
       "      <td>2</td>\n",
       "      <td>28985</td>\n",
       "      <td>2</td>\n",
       "      <td>1</td>\n",
       "    </tr>\n",
       "    <tr>\n",
       "      <th>2</th>\n",
       "      <td>2</td>\n",
       "      <td>9327</td>\n",
       "      <td>3</td>\n",
       "      <td>0</td>\n",
       "    </tr>\n",
       "    <tr>\n",
       "      <th>3</th>\n",
       "      <td>2</td>\n",
       "      <td>45918</td>\n",
       "      <td>4</td>\n",
       "      <td>1</td>\n",
       "    </tr>\n",
       "    <tr>\n",
       "      <th>4</th>\n",
       "      <td>2</td>\n",
       "      <td>30035</td>\n",
       "      <td>5</td>\n",
       "      <td>0</td>\n",
       "    </tr>\n",
       "  </tbody>\n",
       "</table>\n",
       "</div>"
      ],
      "text/plain": [
       "   order_id  product_id  add_to_cart_order  reordered\n",
       "0         2       33120                  1          1\n",
       "1         2       28985                  2          1\n",
       "2         2        9327                  3          0\n",
       "3         2       45918                  4          1\n",
       "4         2       30035                  5          0"
      ]
     },
     "execution_count": 10,
     "metadata": {},
     "output_type": "execute_result"
    }
   ],
   "source": [
    "order_products_df.head()"
   ]
  },
  {
   "cell_type": "code",
   "execution_count": 11,
   "metadata": {},
   "outputs": [
    {
     "data": {
      "text/html": [
       "<div>\n",
       "<style scoped>\n",
       "    .dataframe tbody tr th:only-of-type {\n",
       "        vertical-align: middle;\n",
       "    }\n",
       "\n",
       "    .dataframe tbody tr th {\n",
       "        vertical-align: top;\n",
       "    }\n",
       "\n",
       "    .dataframe thead th {\n",
       "        text-align: right;\n",
       "    }\n",
       "</style>\n",
       "<table border=\"1\" class=\"dataframe\">\n",
       "  <thead>\n",
       "    <tr style=\"text-align: right;\">\n",
       "      <th></th>\n",
       "      <th>product_id</th>\n",
       "      <th>product_name</th>\n",
       "      <th>aisle_id</th>\n",
       "      <th>department_id</th>\n",
       "    </tr>\n",
       "  </thead>\n",
       "  <tbody>\n",
       "    <tr>\n",
       "      <th>0</th>\n",
       "      <td>1</td>\n",
       "      <td>Chocolate Sandwich Cookies</td>\n",
       "      <td>61</td>\n",
       "      <td>19</td>\n",
       "    </tr>\n",
       "    <tr>\n",
       "      <th>1</th>\n",
       "      <td>2</td>\n",
       "      <td>All-Seasons Salt</td>\n",
       "      <td>104</td>\n",
       "      <td>13</td>\n",
       "    </tr>\n",
       "    <tr>\n",
       "      <th>2</th>\n",
       "      <td>3</td>\n",
       "      <td>Robust Golden Unsweetened Oolong Tea</td>\n",
       "      <td>94</td>\n",
       "      <td>7</td>\n",
       "    </tr>\n",
       "    <tr>\n",
       "      <th>3</th>\n",
       "      <td>4</td>\n",
       "      <td>Smart Ones Classic Favorites Mini Rigatoni Wit...</td>\n",
       "      <td>38</td>\n",
       "      <td>1</td>\n",
       "    </tr>\n",
       "    <tr>\n",
       "      <th>4</th>\n",
       "      <td>5</td>\n",
       "      <td>Green Chile Anytime Sauce</td>\n",
       "      <td>5</td>\n",
       "      <td>13</td>\n",
       "    </tr>\n",
       "  </tbody>\n",
       "</table>\n",
       "</div>"
      ],
      "text/plain": [
       "   product_id                                       product_name  aisle_id  \\\n",
       "0           1                         Chocolate Sandwich Cookies        61   \n",
       "1           2                                   All-Seasons Salt       104   \n",
       "2           3               Robust Golden Unsweetened Oolong Tea        94   \n",
       "3           4  Smart Ones Classic Favorites Mini Rigatoni Wit...        38   \n",
       "4           5                          Green Chile Anytime Sauce         5   \n",
       "\n",
       "   department_id  \n",
       "0             19  \n",
       "1             13  \n",
       "2              7  \n",
       "3              1  \n",
       "4             13  "
      ]
     },
     "execution_count": 11,
     "metadata": {},
     "output_type": "execute_result"
    }
   ],
   "source": [
    "products_df.head()"
   ]
  },
  {
   "cell_type": "markdown",
   "metadata": {},
   "source": [
    "### **3.4. Verify outliers**"
   ]
  },
  {
   "cell_type": "code",
   "execution_count": null,
   "metadata": {},
   "outputs": [],
   "source": [
    "df_dict = {\"aisles\": aisles_df,\n",
    "\"departments\": departments_df,\n",
    "\"order_products\": order_products_df,\n",
    "\"orders\": orders_df,\n",
    "\"products\": products_df}\n",
    "for name, df in df_dict.items():\n",
    "    print(f\"Dados de {name}\")\n",
    "    display(df.info())"
   ]
  },
  {
   "cell_type": "code",
   "execution_count": null,
   "metadata": {},
   "outputs": [],
   "source": []
  },
  {
   "cell_type": "markdown",
   "metadata": {},
   "source": [
    "#### **3.4.1. Unique values verification**"
   ]
  },
  {
   "cell_type": "markdown",
   "metadata": {},
   "source": [
    "**order_products dataset**"
   ]
  },
  {
   "cell_type": "code",
   "execution_count": 12,
   "metadata": {},
   "outputs": [
    {
     "data": {
      "text/plain": [
       "reordered\n",
       "1    19955360\n",
       "0    13863746\n",
       "Name: count, dtype: int64"
      ]
     },
     "execution_count": 12,
     "metadata": {},
     "output_type": "execute_result"
    }
   ],
   "source": [
    "order_products_df.reordered.value_counts(dropna=False)"
   ]
  },
  {
   "cell_type": "markdown",
   "metadata": {},
   "source": [
    "**orders dataset**"
   ]
  },
  {
   "cell_type": "code",
   "execution_count": 13,
   "metadata": {},
   "outputs": [
    {
     "data": {
      "text/plain": [
       "order_number\n",
       "4      15300\n",
       "5      12439\n",
       "6      10337\n",
       "7       8853\n",
       "8       7357\n",
       "       ...  \n",
       "96        44\n",
       "97        30\n",
       "98        31\n",
       "99        31\n",
       "100      867\n",
       "Name: count, Length: 97, dtype: int64"
      ]
     },
     "execution_count": 13,
     "metadata": {},
     "output_type": "execute_result"
    }
   ],
   "source": [
    "orders_df.order_number.value_counts(dropna=False).sort_index()"
   ]
  },
  {
   "cell_type": "code",
   "execution_count": 14,
   "metadata": {},
   "outputs": [
    {
     "data": {
      "text/plain": [
       "order_dow\n",
       "0    27465\n",
       "1    19672\n",
       "2    16119\n",
       "3    15687\n",
       "4    15959\n",
       "5    17406\n",
       "6    18901\n",
       "Name: count, dtype: int64"
      ]
     },
     "execution_count": 14,
     "metadata": {},
     "output_type": "execute_result"
    }
   ],
   "source": [
    "orders_df.order_dow.value_counts(dropna=False).sort_index()"
   ]
  },
  {
   "cell_type": "code",
   "execution_count": 15,
   "metadata": {},
   "outputs": [
    {
     "data": {
      "text/plain": [
       "order_hour_of_day\n",
       "0       852\n",
       "1       507\n",
       "2       305\n",
       "3       223\n",
       "4       218\n",
       "5       402\n",
       "6      1121\n",
       "7      3376\n",
       "8      6343\n",
       "9      9033\n",
       "10    10585\n",
       "11    10610\n",
       "12    10622\n",
       "13    10711\n",
       "14    11103\n",
       "15    11075\n",
       "16    10495\n",
       "17     9353\n",
       "18     7558\n",
       "19     5721\n",
       "20     3978\n",
       "21     3050\n",
       "22     2442\n",
       "23     1526\n",
       "Name: count, dtype: int64"
      ]
     },
     "execution_count": 15,
     "metadata": {},
     "output_type": "execute_result"
    }
   ],
   "source": [
    "orders_df.order_hour_of_day.value_counts(dropna=False).sort_index()"
   ]
  },
  {
   "cell_type": "code",
   "execution_count": 16,
   "metadata": {},
   "outputs": [
    {
     "data": {
      "text/plain": [
       "days_since_prior_order\n",
       "0.0      2126\n",
       "1.0      2716\n",
       "2.0      3496\n",
       "3.0      4016\n",
       "4.0      4606\n",
       "5.0      5025\n",
       "6.0      6207\n",
       "7.0      9154\n",
       "8.0      5371\n",
       "9.0      3868\n",
       "10.0     3219\n",
       "11.0     2927\n",
       "12.0     3015\n",
       "13.0     3452\n",
       "14.0     4516\n",
       "15.0     2975\n",
       "16.0     2211\n",
       "17.0     1875\n",
       "18.0     1828\n",
       "19.0     1859\n",
       "20.0     2142\n",
       "21.0     2621\n",
       "22.0     1832\n",
       "23.0     1474\n",
       "24.0     1304\n",
       "25.0     1240\n",
       "26.0     1218\n",
       "27.0     1457\n",
       "28.0     1898\n",
       "29.0     1442\n",
       "30.0    40119\n",
       "Name: count, dtype: int64"
      ]
     },
     "execution_count": 16,
     "metadata": {},
     "output_type": "execute_result"
    }
   ],
   "source": [
    "orders_df.days_since_prior_order.value_counts(dropna=False).sort_index()"
   ]
  },
  {
   "cell_type": "markdown",
   "metadata": {},
   "source": [
    "**products dataset**"
   ]
  },
  {
   "cell_type": "code",
   "execution_count": 17,
   "metadata": {},
   "outputs": [
    {
     "data": {
      "text/html": [
       "<div>\n",
       "<style scoped>\n",
       "    .dataframe tbody tr th:only-of-type {\n",
       "        vertical-align: middle;\n",
       "    }\n",
       "\n",
       "    .dataframe tbody tr th {\n",
       "        vertical-align: top;\n",
       "    }\n",
       "\n",
       "    .dataframe thead th {\n",
       "        text-align: right;\n",
       "    }\n",
       "</style>\n",
       "<table border=\"1\" class=\"dataframe\">\n",
       "  <thead>\n",
       "    <tr style=\"text-align: right;\">\n",
       "      <th></th>\n",
       "      <th>product_id</th>\n",
       "      <th>product_name</th>\n",
       "      <th>aisle_id</th>\n",
       "      <th>department_id</th>\n",
       "    </tr>\n",
       "  </thead>\n",
       "  <tbody>\n",
       "    <tr>\n",
       "      <th>0</th>\n",
       "      <td>1</td>\n",
       "      <td>Chocolate Sandwich Cookies</td>\n",
       "      <td>61</td>\n",
       "      <td>19</td>\n",
       "    </tr>\n",
       "    <tr>\n",
       "      <th>1</th>\n",
       "      <td>2</td>\n",
       "      <td>All-Seasons Salt</td>\n",
       "      <td>104</td>\n",
       "      <td>13</td>\n",
       "    </tr>\n",
       "    <tr>\n",
       "      <th>2</th>\n",
       "      <td>3</td>\n",
       "      <td>Robust Golden Unsweetened Oolong Tea</td>\n",
       "      <td>94</td>\n",
       "      <td>7</td>\n",
       "    </tr>\n",
       "    <tr>\n",
       "      <th>3</th>\n",
       "      <td>4</td>\n",
       "      <td>Smart Ones Classic Favorites Mini Rigatoni Wit...</td>\n",
       "      <td>38</td>\n",
       "      <td>1</td>\n",
       "    </tr>\n",
       "    <tr>\n",
       "      <th>4</th>\n",
       "      <td>5</td>\n",
       "      <td>Green Chile Anytime Sauce</td>\n",
       "      <td>5</td>\n",
       "      <td>13</td>\n",
       "    </tr>\n",
       "  </tbody>\n",
       "</table>\n",
       "</div>"
      ],
      "text/plain": [
       "   product_id                                       product_name  aisle_id  \\\n",
       "0           1                         Chocolate Sandwich Cookies        61   \n",
       "1           2                                   All-Seasons Salt       104   \n",
       "2           3               Robust Golden Unsweetened Oolong Tea        94   \n",
       "3           4  Smart Ones Classic Favorites Mini Rigatoni Wit...        38   \n",
       "4           5                          Green Chile Anytime Sauce         5   \n",
       "\n",
       "   department_id  \n",
       "0             19  \n",
       "1             13  \n",
       "2              7  \n",
       "3              1  \n",
       "4             13  "
      ]
     },
     "execution_count": 17,
     "metadata": {},
     "output_type": "execute_result"
    }
   ],
   "source": [
    "products_df.head()"
   ]
  },
  {
   "cell_type": "code",
   "execution_count": 18,
   "metadata": {},
   "outputs": [
    {
     "data": {
      "text/plain": [
       "array([ 61, 104,  94,  38,   5,  11,  98, 116, 120, 115,  31, 119,  74,\n",
       "        56, 103,  35,  79,  63,  40,  20,  49,  47,   3,  41, 127, 121,\n",
       "        81, 123, 107, 131, 106,  69, 100,  64,  78,  83,  58,  66,  87,\n",
       "        14, 105,  22, 134,  23, 111, 128,  50,   9,  96,  92,  89,  88,\n",
       "       130,  26,  77,  65,  12,  95,  19,   7,   6,  97,   2, 112,  10,\n",
       "        51,  13,  75,  70,  93,  34,  62,  21,  29,  45, 118,   4, 108,\n",
       "        37, 109,  91,  24,  67, 132,  25, 129,  46,  16,  52,  17,  73,\n",
       "       122,  42,  59, 126,  33,   1,   8,  82, 114, 124, 117,  72, 110,\n",
       "        85,  44,  80, 101,  84,  30,  27,  90,  48, 133,  53,  28,  68,\n",
       "        43, 125,  57,  15,  55,  36,  54, 102,  60,  99,  18,  39,  71,\n",
       "       113,  86,  32,  76], dtype=int64)"
      ]
     },
     "execution_count": 18,
     "metadata": {},
     "output_type": "execute_result"
    }
   ],
   "source": [
    "products_df.aisle_id.unique()"
   ]
  },
  {
   "cell_type": "code",
   "execution_count": 19,
   "metadata": {},
   "outputs": [
    {
     "data": {
      "text/plain": [
       "array([19, 13,  7,  1, 11, 16, 17, 18, 12,  9,  8, 14, 15,  4, 21,  6, 20,\n",
       "        5,  3,  2, 10], dtype=int64)"
      ]
     },
     "execution_count": 19,
     "metadata": {},
     "output_type": "execute_result"
    }
   ],
   "source": [
    "products_df.department_id.unique()\n"
   ]
  },
  {
   "cell_type": "code",
   "execution_count": 20,
   "metadata": {},
   "outputs": [],
   "source": [
    "# Function to detect and visualize outliers based on the IQR\n",
    "def detect_and_plot_outliers(df, column_name):\n",
    "    print(f\"Outlier removing from {column_name}\")\n",
    "    # Calculate Q1 (25th percentile) and Q3 (75th percentile)\n",
    "    Q1 = df[column_name].quantile(0.25)\n",
    "    Q3 = df[column_name].quantile(0.75)\n",
    "    \n",
    "    # Calculate the Interquartile Range (IQR)\n",
    "    IQR = Q3 - Q1\n",
    "    \n",
    "    # Define outliers as those outside of Q1 - 1.5*IQR and Q3 + 1.5*IQR\n",
    "    lower_bound = Q1 - 1.5 * IQR\n",
    "    upper_bound = Q3 + 1.5 * IQR\n",
    "    \n",
    "    # Print statistical details\n",
    "    print(f\"IQR = {IQR}\")\n",
    "    print(f\"Lower Bound = {lower_bound}\")\n",
    "    print(f\"Upper Bound = {upper_bound}\")\n",
    "    print(f\"Min = {df[column_name].min()}\")\n",
    "    print(f\"Max = {df[column_name].max()}\")\n",
    "    \n",
    "    # Plot histogram\n",
    "    plt.figure(figsize=(10, 3))\n",
    "    plt.hist(df[column_name], bins=50, color='blue', alpha=0.7)\n",
    "    plt.axvline(x=lower_bound, color='r', linestyle='dashed', linewidth=2)\n",
    "    plt.axvline(x=upper_bound, color='r', linestyle='dashed', linewidth=2)\n",
    "    plt.title(f'Histogram of {column_name}')\n",
    "    plt.xlabel(column_name)\n",
    "    plt.ylabel('Frequency')\n",
    "    plt.grid(True)\n",
    "    plt.show()\n",
    "    \n",
    "    # Create a boolean mask where true indicates the presence of an outlier\n",
    "    outliers_mask = (df[column_name] < lower_bound) | (df[column_name] > upper_bound)\n",
    "    \n",
    "    # Print percentage of outliers\n",
    "    print(f\"Outliers percentage in the dataset: {round(np.mean(outliers_mask) * 100, 2)}%\")\n",
    "    print(\"-\"*100)\n",
    "    # Return the dataframe without outliers\n",
    "    return df[~outliers_mask]\n"
   ]
  },
  {
   "cell_type": "markdown",
   "metadata": {},
   "source": [
    "### **Apply the outlier detection to order_products dataframe**"
   ]
  },
  {
   "cell_type": "code",
   "execution_count": 21,
   "metadata": {},
   "outputs": [
    {
     "name": "stdout",
     "output_type": "stream",
     "text": [
      "Outlier removing from add_to_cart_order\n",
      "IQR = 8.0\n",
      "Lower Bound = -9.0\n",
      "Upper Bound = 23.0\n",
      "Min = 1\n",
      "Max = 145\n"
     ]
    },
    {
     "data": {
      "image/png": "[encoded data removed]",
      "text/plain": [
       "<Figure size 1000x300 with 1 Axes>"
      ]
     },
     "metadata": {},
     "output_type": "display_data"
    },
    {
     "name": "stdout",
     "output_type": "stream",
     "text": [
      "Outliers percentage in the dataset: 4.22%\n",
      "----------------------------------------------------------------------------------------------------\n"
     ]
    }
   ],
   "source": [
    "outliers_removed_order_products_df = detect_and_plot_outliers(order_products_df, 'add_to_cart_order')\n",
    "\n"
   ]
  },
  {
   "cell_type": "markdown",
   "metadata": {},
   "source": [
    "### **Apply the outlier detection to orders dataframe**"
   ]
  },
  {
   "cell_type": "code",
   "execution_count": 23,
   "metadata": {},
   "outputs": [
    {
     "name": "stdout",
     "output_type": "stream",
     "text": [
      "Outlier removing from days_since_prior_order\n",
      "IQR = 23.0\n",
      "Lower Bound = -27.5\n",
      "Upper Bound = 64.5\n",
      "Min = 0.0\n",
      "Max = 30.0\n"
     ]
    },
    {
     "data": {
      "image/png": "[encoded data removed]",
      "text/plain": [
       "<Figure size 1000x300 with 1 Axes>"
      ]
     },
     "metadata": {},
     "output_type": "display_data"
    },
    {
     "name": "stdout",
     "output_type": "stream",
     "text": [
      "Outliers percentage in the dataset: 0.0%\n",
      "----------------------------------------------------------------------------------------------------\n",
      "Outlier removing from order_number\n",
      "IQR = 14.0\n",
      "Lower Bound = -15.0\n",
      "Upper Bound = 41.0\n",
      "Min = 4\n",
      "Max = 100\n"
     ]
    },
    {
     "data": {
      "image/png": "[encoded data removed]",
      "text/plain": [
       "<Figure size 1000x300 with 1 Axes>"
      ]
     },
     "metadata": {},
     "output_type": "display_data"
    },
    {
     "name": "stdout",
     "output_type": "stream",
     "text": [
      "Outliers percentage in the dataset: 8.26%\n",
      "----------------------------------------------------------------------------------------------------\n"
     ]
    }
   ],
   "source": [
    "outliers_removed_orders_df = detect_and_plot_outliers(orders_df, 'days_since_prior_order')\n",
    "outliers_removed_orders_df = detect_and_plot_outliers(outliers_removed_orders_df, 'order_number')"
   ]
  },
  {
   "cell_type": "code",
   "execution_count": null,
   "metadata": {},
   "outputs": [],
   "source": []
  },
  {
   "cell_type": "markdown",
   "metadata": {},
   "source": [
    "### **3.5. Data merge**"
   ]
  },
  {
   "cell_type": "code",
   "execution_count": 24,
   "metadata": {},
   "outputs": [],
   "source": [
    "aisles_df.aisle_id = aisles_df.aisle_id.astype('category')\n",
    "aisles_df.aisle = aisles_df.aisle.astype('category')\n",
    "\n",
    "departments_df.department_id = departments_df.department_id.astype('category')\n",
    "departments_df.department = departments_df.department.astype('category')\n",
    "\n",
    "products_df.product_id = products_df.product_id.astype('category')\n",
    "products_df.product_name = products_df.product_name.astype('category')\n",
    "products_df.aisle_id = products_df.aisle_id.astype('category')\n",
    "products_df.department_id = products_df.department_id.astype('category')\n",
    "\n",
    "order_products_df.order_id = order_products_df.order_id.astype('category')\n",
    "order_products_df.product_id = order_products_df.product_id.astype('category')\n",
    "\n",
    "orders_df.order_id = orders_df.order_id.astype('category')\n",
    "orders_df.user_id = orders_df.user_id.astype('category')\n",
    "orders_df.eval_set = orders_df.eval_set.astype('category')"
   ]
  },
  {
   "cell_type": "code",
   "execution_count": null,
   "metadata": {},
   "outputs": [],
   "source": []
  },
  {
   "cell_type": "code",
   "execution_count": 25,
   "metadata": {},
   "outputs": [],
   "source": [
    "products_df = pd.merge(products_df, aisles_df, on='aisle_id', how='left')\n",
    "products_df = pd.merge(products_df, departments_df, on='department_id', how='left')"
   ]
  },
  {
   "cell_type": "code",
   "execution_count": 26,
   "metadata": {},
   "outputs": [],
   "source": [
    "merged_df = pd.merge(order_products_df, products_df, on='product_id', how='left')"
   ]
  },
  {
   "cell_type": "code",
   "execution_count": 27,
   "metadata": {},
   "outputs": [
    {
     "data": {
      "text/plain": [
       "131209"
      ]
     },
     "execution_count": 27,
     "metadata": {},
     "output_type": "execute_result"
    }
   ],
   "source": [
    "len(orders_df)"
   ]
  },
  {
   "cell_type": "code",
   "execution_count": 28,
   "metadata": {},
   "outputs": [
    {
     "data": {
      "text/html": [
       "<div>\n",
       "<style scoped>\n",
       "    .dataframe tbody tr th:only-of-type {\n",
       "        vertical-align: middle;\n",
       "    }\n",
       "\n",
       "    .dataframe tbody tr th {\n",
       "        vertical-align: top;\n",
       "    }\n",
       "\n",
       "    .dataframe thead th {\n",
       "        text-align: right;\n",
       "    }\n",
       "</style>\n",
       "<table border=\"1\" class=\"dataframe\">\n",
       "  <thead>\n",
       "    <tr style=\"text-align: right;\">\n",
       "      <th></th>\n",
       "      <th>order_id</th>\n",
       "      <th>user_id</th>\n",
       "      <th>eval_set</th>\n",
       "      <th>order_number</th>\n",
       "      <th>order_dow</th>\n",
       "      <th>order_hour_of_day</th>\n",
       "      <th>days_since_prior_order</th>\n",
       "    </tr>\n",
       "  </thead>\n",
       "  <tbody>\n",
       "    <tr>\n",
       "      <th>10</th>\n",
       "      <td>1187899</td>\n",
       "      <td>1</td>\n",
       "      <td>train</td>\n",
       "      <td>11</td>\n",
       "      <td>4</td>\n",
       "      <td>8</td>\n",
       "      <td>14.0</td>\n",
       "    </tr>\n",
       "    <tr>\n",
       "      <th>25</th>\n",
       "      <td>1492625</td>\n",
       "      <td>2</td>\n",
       "      <td>train</td>\n",
       "      <td>15</td>\n",
       "      <td>1</td>\n",
       "      <td>11</td>\n",
       "      <td>30.0</td>\n",
       "    </tr>\n",
       "    <tr>\n",
       "      <th>47</th>\n",
       "      <td>2196797</td>\n",
       "      <td>5</td>\n",
       "      <td>train</td>\n",
       "      <td>5</td>\n",
       "      <td>0</td>\n",
       "      <td>11</td>\n",
       "      <td>6.0</td>\n",
       "    </tr>\n",
       "    <tr>\n",
       "      <th>71</th>\n",
       "      <td>525192</td>\n",
       "      <td>7</td>\n",
       "      <td>train</td>\n",
       "      <td>21</td>\n",
       "      <td>2</td>\n",
       "      <td>11</td>\n",
       "      <td>6.0</td>\n",
       "    </tr>\n",
       "    <tr>\n",
       "      <th>75</th>\n",
       "      <td>880375</td>\n",
       "      <td>8</td>\n",
       "      <td>train</td>\n",
       "      <td>4</td>\n",
       "      <td>1</td>\n",
       "      <td>14</td>\n",
       "      <td>10.0</td>\n",
       "    </tr>\n",
       "  </tbody>\n",
       "</table>\n",
       "</div>"
      ],
      "text/plain": [
       "   order_id user_id eval_set  order_number  order_dow  order_hour_of_day  \\\n",
       "10  1187899       1    train            11          4                  8   \n",
       "25  1492625       2    train            15          1                 11   \n",
       "47  2196797       5    train             5          0                 11   \n",
       "71   525192       7    train            21          2                 11   \n",
       "75   880375       8    train             4          1                 14   \n",
       "\n",
       "    days_since_prior_order  \n",
       "10                    14.0  \n",
       "25                    30.0  \n",
       "47                     6.0  \n",
       "71                     6.0  \n",
       "75                    10.0  "
      ]
     },
     "execution_count": 28,
     "metadata": {},
     "output_type": "execute_result"
    }
   ],
   "source": [
    "orders_df.head()"
   ]
  },
  {
   "cell_type": "code",
   "execution_count": 29,
   "metadata": {},
   "outputs": [],
   "source": [
    "final_df = pd.merge(merged_df, orders_df, on='order_id', how='inner')"
   ]
  },
  {
   "cell_type": "code",
   "execution_count": 30,
   "metadata": {},
   "outputs": [
    {
     "data": {
      "text/plain": [
       "1384617"
      ]
     },
     "execution_count": 30,
     "metadata": {},
     "output_type": "execute_result"
    }
   ],
   "source": [
    "len(final_df)"
   ]
  },
  {
   "cell_type": "markdown",
   "metadata": {},
   "source": [
    "# **4. Exploratory Data Analysis (EDA)**"
   ]
  },
  {
   "cell_type": "markdown",
   "metadata": {},
   "source": [
    "### **Order Quantity Analysis**\n",
    "\n",
    "**Key Questions:**\n",
    "1. **How many orders include multiple products?**\n",
    "2. **How many orders have five or more products?**\n",
    "3. **How many orders include ten or more products?**"
   ]
  },
  {
   "cell_type": "code",
   "execution_count": 32,
   "metadata": {},
   "outputs": [
    {
     "name": "stdout",
     "output_type": "stream",
     "text": [
      "Ordering more than one product: 124364 or 94.8% of total orders\n",
      "Orders of 5 or more products: 100745 or 76.8% of total orders\n",
      "Orders of 10 or more products: 59401 or 45.3% of total orders\n",
      "\n"
     ]
    }
   ],
   "source": [
    "\n",
    "order_id_agg = final_df.groupby(\"order_id\").agg(count = (\"order_id\", \"count\"))\n",
    "top_orders = order_id_agg.sort_values(by = [\"count\"], ascending = False)\n",
    "top_orders = order_id_agg.sort_values(by = [\"count\"], ascending = False)\n",
    "\n",
    "gt_one = len(top_orders[top_orders[\"count\"] > 1])\n",
    "ge_five = len(top_orders[top_orders[\"count\"] >= 5])\n",
    "ge_ten = len(top_orders[top_orders[\"count\"] >= 10])\n",
    "print(f\"\"\"Ordering more than one product: {gt_one} or {round(gt_one/len(top_orders)*100, 1)}% of total orders\n",
    "Orders of 5 or more products: {ge_five} or {round(ge_five/len(top_orders)*100, 1)}% of total orders\n",
    "Orders of 10 or more products: {ge_ten} or {round(ge_ten/len(top_orders)*100, 1)}% of total orders\n",
    "\"\"\")"
   ]
  },
  {
   "cell_type": "markdown",
   "metadata": {},
   "source": [
    "\n",
    "\n",
    "**Interpretation of Results:**\n",
    "\n",
    "- **Orders with multiple products:** 124,364 (94.8% of total orders). This indicates that most customers buy several items per visit, suggesting preference for comprehensive shopping.\n",
    "  \n",
    "- **Orders with 5+ products:** 100,745 (76.8%). This large portion of orders suggests regular stock-up behavior, likely driven by routine shopping needs.\n",
    "\n",
    "- **Orders with 10+ products:** 59,401 (45.3%). A significant fraction of customers engage in bulk purchases, indicating shopping for households or events.\n",
    "\n",
    "**Strategic Implications:**\n",
    "\n",
    "- **Marketing:** Focus on promotions that encourage buying in bulk, such as discounts for larger baskets.\n",
    "  \n",
    "- **Inventory:** Ensure availability of high-demand items to satisfy bulk purchase habits.\n",
    "\n",
    "- **Store Layout:** Optimize store layout to support easy access to frequently bought items, enhancing the shopping experience for bulk buyers.\n"
   ]
  },
  {
   "cell_type": "markdown",
   "metadata": {},
   "source": [
    "### Which departments sell the most?"
   ]
  },
  {
   "cell_type": "code",
   "execution_count": null,
   "metadata": {},
   "outputs": [],
   "source": [
    "df_dict = {\"aisles\": aisles_df,\n",
    "\"departments\": departments_df,\n",
    "\"order_products\": order_products_df,\n",
    "\"orders\": orders_df,\n",
    "\"products\": products_df}\n",
    "for name, df in df_dict.items():\n",
    "    print(f\"Dados de {name}\")\n",
    "    display(df.head(2))"
   ]
  },
  {
   "cell_type": "code",
   "execution_count": null,
   "metadata": {},
   "outputs": [],
   "source": [
    "df1 = final_df.department.value_counts(ascending = False).to_frame()\n",
    "df1\n"
   ]
  },
  {
   "cell_type": "code",
   "execution_count": null,
   "metadata": {},
   "outputs": [],
   "source": [
    "df1[\"percent\"] = round(df1[\"count\"]/df1[\"count\"].sum()*100, 1)\n",
    "df1[\"count\"] = round(df1[\"count\"]/1000_000, 1)\n",
    "df1 = df1.rename(columns={\"count\": \"orders [M]\"})\n",
    "df1.reset_index(inplace= True)\n"
   ]
  },
  {
   "cell_type": "code",
   "execution_count": null,
   "metadata": {},
   "outputs": [],
   "source": [
    "df1"
   ]
  },
  {
   "cell_type": "code",
   "execution_count": null,
   "metadata": {},
   "outputs": [],
   "source": [
    "print(f\"Total order: {round(len(final_df)/1000_000, 1)} M\")\n",
    "plt.figure(figsize=(14, 5))\n",
    "sns.barplot(data = df1, x = \"department\", y = \"percent\", order=df1['department'])\n",
    "plt.title(\"Distribution of orders between departments\")\n",
    "plt.xticks(rotation = 45);\n"
   ]
  },
  {
   "cell_type": "markdown",
   "metadata": {},
   "source": [
    "This visualization is particularly useful for understanding how orders are distributed across different departments, helping businesses identify which departments are handling more orders and might need additional resources or further analysis to optimize operations."
   ]
  },
  {
   "cell_type": "markdown",
   "metadata": {},
   "source": [
    "### What are the 3 best-selling products in each department?"
   ]
  },
  {
   "cell_type": "code",
   "execution_count": null,
   "metadata": {},
   "outputs": [],
   "source": [
    "final_df.head()"
   ]
  },
  {
   "cell_type": "code",
   "execution_count": null,
   "metadata": {},
   "outputs": [],
   "source": [
    "final_df.info()"
   ]
  },
  {
   "cell_type": "code",
   "execution_count": null,
   "metadata": {},
   "outputs": [],
   "source": [
    "final_df.aisle_id = final_df.aisle_id.astype('Int64')\n",
    "# final_df.aisle = final_df.aisle.astype('string')\n",
    "\n",
    "final_df.department_id = final_df.department_id.astype('Int64')\n",
    "final_df.department = final_df.department.astype('object')\n",
    "\n",
    "final_df.product_id = final_df.product_id.astype('Int64')\n",
    "final_df.product_name = final_df.product_name.astype('object')\n",
    "final_df.aisle_id = final_df.aisle_id.astype('Int64')\n",
    "final_df.department_id = final_df.department_id.astype('Int64')\n",
    "\n",
    "final_df.order_id = final_df.order_id.astype('Int64')\n",
    "final_df.product_id = final_df.product_id.astype('Int64')\n",
    "\n",
    "final_df.order_id = final_df.order_id.astype('Int64')\n",
    "final_df.user_id = final_df.user_id.astype('Int64')\n",
    "final_df.eval_set = final_df.eval_set.astype('object')"
   ]
  },
  {
   "cell_type": "code",
   "execution_count": null,
   "metadata": {},
   "outputs": [],
   "source": [
    "aggregated_data = final_df.groupby(['department', 'product_name']).size().reset_index(name='orders').sort_values(by=['department', 'product_name'])\n",
    "\n",
    "# Calculation of total orders by department\n",
    "total_orders_by_department = aggregated_data.groupby('department')['orders'].sum().rename('total_orders')\n",
    "import pandas as pd\n",
    "import matplotlib.pyplot as plt\n",
    "import seaborn as sns\n",
    "\n",
    "# Initializing the list to store DataFrames of the top 3 products per department\n",
    "top_3_products_list = []\n",
    "\n",
    "# Iterating over unique departments\n",
    "for department in df1.department.unique():\n",
    "    # Filtering data for the current department\n",
    "    dept_data = aggregated_data[aggregated_data.department == department].copy()\n",
    "    \n",
    "    # Converting orders to thousands ('k') using .loc[]\n",
    "    dept_data.loc[:, 'orders [k]'] = round(dept_data['orders'] / 1000, 1)\n",
    "    \n",
    "    # Selecting the top 3 products based on order volume\n",
    "    top_3_products = dept_data.nlargest(3, 'orders')\n",
    "    top_3_products.loc[:, 'department'] = department  # Ensuring department column is updated for clarity\n",
    "    top_3_products_list.append(top_3_products)\n",
    "\n",
    "\n",
    "# Consolidating the top 3 products from all departments\n",
    "all_top_3_products = pd.concat(top_3_products_list)\n",
    "\n",
    "# Setting a custom color palette\n",
    "custom_palette = [\"#e6194B\", \"#3cb44b\", \"#ffe119\", \"#4363d8\", \"#f58231\", \"#911eb4\", \"#46f0f0\", \"#f032e6\", \"#bcf60c\", \"#fabebe\", \"#008080\", \"#e6beff\", \"#9A6324\", \"#fffac8\", \"#800000\", \"#aaffc3\", \"#808000\", \"#ffd8b1\", \"#000075\", \"#808080\", \"#bbffff\", \"#e61941\"]\n",
    "sns.set_palette(custom_palette)\n",
    "\n",
    "\n",
    "# Visualization focusing on sales volume\n",
    "plt.figure(figsize=(20, 20))\n",
    "barplot = sns.barplot(data=all_top_3_products, x=\"orders [k]\", y=\"product_name\", hue=\"department\", dodge=False)\n",
    "\n",
    "# Enhancing readability\n",
    "plt.title(\"Top 3 Products by Sales Volume in Each Department\", fontsize=16)\n",
    "plt.xlabel(\"Total Orders (Thousands)\", fontsize=14)\n",
    "plt.ylabel(\"Product Name\", fontsize=14)\n",
    "plt.legend(title=\"Department\", bbox_to_anchor=(1.05, 1), loc='upper left', fontsize=12)\n",
    "plt.tight_layout()\n",
    "plt.show()\n"
   ]
  },
  {
   "cell_type": "code",
   "execution_count": null,
   "metadata": {},
   "outputs": [],
   "source": []
  },
  {
   "cell_type": "markdown",
   "metadata": {},
   "source": [
    "### Practical Uses of the Graph\n",
    "\n",
    "1. **Inside Each Department**:\n",
    "   - **Fine-tune Your Product Line**: Spot which products might need more advertising or which ones might need to be discontinued based on their sales compared to the top sellers.\n",
    "   - **Adjust Prices Thoughtfully**: Change prices based on how much customers are buying; maybe lower prices for products that aren’t selling well or consider raising prices slightly for those that are really popular.\n",
    "\n",
    "2. **Across Different Departments**:\n",
    "   - **Move Resources Where They’re Needed**: Put more marketing effort or store space into departments or products that are selling well to boost profits.\n",
    "   - **Create Smart Deals**: Think about pairing up best-selling products from one area with items from another area to increase sales for both.\n",
    "\n",
    "3. **Making Strategic Decisions**:\n",
    "   - **Manage Your Stock Better**: Keep more of the top-selling products in stock so you don’t run out, and reduce the ones that aren’t selling well to cut costs.\n",
    "   - **Explore New Opportunities**: If certain products are doing really well, consider offering them in new places or to different groups of people to see if they catch on there too.\n"
   ]
  },
  {
   "cell_type": "code",
   "execution_count": null,
   "metadata": {},
   "outputs": [],
   "source": []
  },
  {
   "cell_type": "code",
   "execution_count": null,
   "metadata": {},
   "outputs": [],
   "source": [
    "# Data Aggregation\n",
    "aggregated_data = final_df.groupby(['department', 'product_name']).size().reset_index(name='orders')\n",
    "\n",
    "# Calculation of Total Orders by Department\n",
    "total_orders_by_department = aggregated_data.groupby('department')['orders'].sum().rename('total_orders')\n",
    "\n",
    "# Initialization of a List to Store the DataFrames of the Top 3 Products\n",
    "top_3_products_list = []\n",
    "\n",
    "# Iteration Over Unique Departments\n",
    "for department in df1.department.unique():\n",
    "    # Filtering Data for the Current Department\n",
    "    dept_data = aggregated_data[aggregated_data.department == department].copy()\n",
    "    \n",
    "    # Calculation of Sales Percentage and Conversion of Orders to Thousands ('k')\n",
    "    total_orders = total_orders_by_department.loc[department]\n",
    "    dept_data.loc[:, 'percentage'] = round(dept_data['orders'] / total_orders * 100, 1)  # Sales percentage of each product\n",
    "    dept_data.loc[:, 'orders [k]'] = round(dept_data['orders'] / 1000, 1)  # Sales volume in thousands\n",
    "    \n",
    "    # Selection of the Top 3 Products by Order Volume\n",
    "    top_3_products = dept_data.nlargest(3, 'orders')\n",
    "    top_3_products.loc[:, 'department'] = department\n",
    "    top_3_products_list.append(top_3_products)\n",
    "\n",
    "# Consolidation of the Top 3 Products from All Departments\n",
    "all_top_3_products = pd.concat(top_3_products_list)\n",
    "\n",
    "# Definition of a Custom Color Palette with Distinct Colors\n",
    "custom_palette = [\"#e6194B\", \"#3cb44b\", \"#ffe119\", \"#4363d8\", \"#f58231\", \"#911eb4\", \"#46f0f0\", \"#f032e6\", \"#bcf60c\", \"#fabebe\", \"#008080\", \"#e6beff\", \"#9A6324\", \"#fffac8\", \"#800000\", \"#aaffc3\", \"#808000\", \"#ffd8b1\", \"#000075\", \"#808080\", \"#bbffff\", \"#e61941\"]\n",
    "sns.set_palette(custom_palette)\n",
    "\n",
    "# Visualization\n",
    "plt.figure(figsize=(20, 20))\n",
    "barplot = sns.barplot(data=all_top_3_products, x=\"percentage\", y=\"product_name\", hue=\"department\", dodge=False)\n",
    "\n",
    "# Improving Legibility\n",
    "plt.title(\"Top 3 Best-Selling Products in Each Department\", fontsize=16)\n",
    "plt.xlabel(\"Percentage of Total Department Sales\", fontsize=14)\n",
    "plt.ylabel(\"Product Name\", fontsize=14)\n",
    "plt.legend(title=\"Department\", bbox_to_anchor=(1.05, 1), loc='upper left', fontsize=12)\n",
    "plt.tight_layout()\n",
    "plt.show()\n"
   ]
  },
  {
   "cell_type": "markdown",
   "metadata": {},
   "source": [
    "\n",
    "### How This Graph Helps\n",
    "\n",
    "1. **Understanding Product Impact**:\n",
    "   - **Measure Market Share**: This graph shows what percentage of total sales in each department comes from the top three products. It tells you how important these products are to their department.\n",
    "   - **Spot Key Players**: Quickly identify which products are the most influential in generating revenue within their categories.\n",
    "\n",
    "2. **Comparing Product Performance**:\n",
    "   - **Visual Comparison**: By displaying the sales percentages, you can easily see which products are doing exceptionally well and perhaps understand why certain departments are more successful than others.\n",
    "   - **Focus Efforts**: This data can help decide where to focus marketing and sales efforts to maximize returns.\n",
    "\n",
    "3. **Strategic Planning**:\n",
    "   - **Promotional Strategies**: Products with a high percentage of department sales might benefit from more aggressive promotions or better placement in stores or on websites.\n",
    "   - **Inventory Adjustments**: Adjust stock levels based on the percentage contributions to avoid overstocking less popular products and understocking top sellers.\n",
    "\n",
    "This graph is essential for making informed decisions on product management, marketing campaigns, and overall sales strategies, ensuring that resources are allocated to support the products that have the most significant impact on a department’s success."
   ]
  },
  {
   "cell_type": "markdown",
   "metadata": {},
   "source": [
    "# Seasonality"
   ]
  },
  {
   "cell_type": "markdown",
   "metadata": {},
   "source": [
    "### On which days does each department sell the most?"
   ]
  },
  {
   "cell_type": "code",
   "execution_count": null,
   "metadata": {},
   "outputs": [],
   "source": [
    "\n",
    "# Grouping data by department and day of the week, counting sales\n",
    "sales_by_department_day = final_df.groupby(['department', 'order_dow']).size().reset_index(name='sales')\n",
    "\n",
    "# Getting a unique list of all departments\n",
    "departments = sales_by_department_day['department'].unique()\n",
    "\n",
    "# Initial setup for the plots\n",
    "sns.set(style=\"whitegrid\")  # Sets the plot style to something more visually pleasing\n",
    "\n",
    "# Loop through each department to create a bar chart of sales by day of the week\n",
    "for department in df1.department.unique():  # Correct reference to iterate correctly through departments\n",
    "    # Filtering data for the current department\n",
    "    dept_sales = sales_by_department_day[sales_by_department_day['department'] == department]\n",
    "    \n",
    "    # Creating the bar chart\n",
    "    plt.figure(figsize=(10, 6))\n",
    "    sns.barplot(x='order_dow', y='sales', data=dept_sales, color='skyblue')\n",
    "    plt.title(f'Sales by Day of the Week - {department}')\n",
    "    plt.xlabel('Day of the Week')\n",
    "    plt.ylabel('Sales')\n",
    "    plt.xticks(ticks=range(0, 7), labels=['Sun', 'Mon', 'Tue', 'Wed', 'Thu', 'Fri', 'Sat'])\n",
    "    plt.show()\n"
   ]
  },
  {
   "cell_type": "markdown",
   "metadata": {},
   "source": [
    "Em que horários cada departamento vende mais?"
   ]
  },
  {
   "cell_type": "code",
   "execution_count": null,
   "metadata": {},
   "outputs": [],
   "source": [
    "# Grouping data by department and day of the week, counting sales\n",
    "sales_by_department_day = final_df.groupby(['department', 'order_hour_of_day']).size().reset_index(name='sales')\n",
    "\n",
    "# Getting a unique list of all departments\n",
    "departments = sales_by_department_day['department'].unique()\n",
    "\n",
    "# Loop through each department to create a bar chart of sales by day of the week\n",
    "for department in df1.department.unique():\n",
    "    # Filtering data for the current department\n",
    "    dept_sales = sales_by_department_day[sales_by_department_day['department'] == department]\n",
    "    \n",
    "    # Creating the bar chart\n",
    "    plt.figure(figsize=(10, 6))\n",
    "    plt.bar(dept_sales['order_hour_of_day'], dept_sales['sales'], color='skyblue')\n",
    "    plt.title(f'Sales by Day of the Week - {department}')\n",
    "    plt.xlabel('Day of the Week')\n",
    "    plt.ylabel('Sales')\n",
    "    plt.xticks(ticks=range(0, 24))\n",
    "    \n",
    "    # Displaying the chart\n",
    "    plt.show()\n"
   ]
  },
  {
   "cell_type": "markdown",
   "metadata": {},
   "source": [
    "\n",
    "### Introduction to Hourly Sales Insights Across Departments\n",
    "\n",
    "How specific departmental data reveals opportunities for strategic engagement and optimization:\n",
    "\n",
    "**General Observation:**\n",
    "Customers' shopping patterns vary significantly throughout the day, with distinct peaks in certain departments that suggest optimal times for targeted marketing, staffing adjustments, and inventory management. Recognizing these patterns allows us to tailor our approach to meet demand where and when it occurs.\n",
    "\n",
    "### Detailed Departmental Insights\n",
    "\n",
    "**1. Alcohol and Bakery: Afternoon Indulgences**\n",
    "- **Peak Times:** Alcohol peaks at 3 PM and Bakery at 2 PM.\n",
    "- **Strategy:** Launch \"Afternoon Delight\" specials combining bakery items with alcoholic beverages to capitalize on the afternoon rush.\n",
    "\n",
    "**2. Beverages: Morning Necessities**\n",
    "- **Peak Time:** A sharp spike in sales at 10 AM.\n",
    "- **Strategy:** Enhance morning beverage promotions and introduce a loyalty program for early risers to boost return visits.\n",
    "\n",
    "**3. Produce: Midday Freshness**\n",
    "- **Peak Time:** Continuously high sales from morning through midday, peaking at 33,335 units.\n",
    "- **Strategy:** Maintain high staffing levels during these hours to manage the rush and implement fast-track lanes for small, produce-only purchases.\n",
    "\n",
    "**4. Snacks: Evening Cravings**\n",
    "- **Peak Time:** Sales remain high into the evening, suggesting a trend toward late-night snacking.\n",
    "- **Strategy:** Extend store hours on weekends to accommodate late shoppers and test targeted evening promotions.\n",
    "\n",
    "**5. Strategic Operations Across the Store**\n",
    "- **Insight:** The flow of sales across departments informs broader strategic decisions—from promotional timing to operational adjustments.\n",
    "- **Strategy:** Use these insights to dynamically adjust store hours and layout, ensuring high-demand items are accessible during peak shopping times and that staffing is optimized for efficiency.\n",
    "\n",
    "### Conclusion:\n",
    "By strategically analyzing sales data by hour and department, we can better align our operations with customer preferences. This proactive approach not only meets customer needs more effectively but also drives increased sales through targeted strategies that resonate with the daily rhythms of our customers' lives. This data-driven strategy ensures that the store remains a responsive, customer-focused entity."
   ]
  },
  {
   "cell_type": "code",
   "execution_count": null,
   "metadata": {},
   "outputs": [],
   "source": []
  },
  {
   "cell_type": "code",
   "execution_count": null,
   "metadata": {},
   "outputs": [],
   "source": []
  },
  {
   "cell_type": "markdown",
   "metadata": {},
   "source": [
    "Dos produtos que corredores (aisle) mais são vendidos em cada departamento. Em quais dias da semana são mais vendidos?\n"
   ]
  },
  {
   "cell_type": "code",
   "execution_count": null,
   "metadata": {},
   "outputs": [],
   "source": [
    "\n",
    "\n",
    "# Step 1: Identify the best-selling aisle in each department\n",
    "best_selling_by_department = (\n",
    "    final_df.groupby(['department', 'aisle'])\n",
    "    .size()\n",
    "    .reset_index(name='sales')\n",
    "    .sort_values(by=['sales'], ascending=[False])\n",
    "    .drop_duplicates(subset=['department'], keep='first')\n",
    ")\n",
    "\n",
    "# Step 2: Analyze sales distribution across the week for each best-selling aisle in departments\n",
    "for index, row in best_selling_by_department.iterrows():\n",
    "    department = row['department']\n",
    "    aisle = row['aisle']\n",
    "    \n",
    "    # Filter data for the best-selling aisle in the current department\n",
    "    aisle_sales_week = final_df[(final_df['department'] == department) & (final_df['aisle'] == aisle)]\n",
    "    \n",
    "    # Group by day of the week and count sales\n",
    "    sales_by_day = aisle_sales_week.groupby('order_dow').size().reset_index(name='sales')\n",
    "    \n",
    "    # Visualization\n",
    "    plt.figure(figsize=(10, 6))\n",
    "    plt.bar(sales_by_day['order_dow'], sales_by_day['sales'], color='skyblue')\n",
    "    plt.title(f'{department} - Best Selling aisle Sales by Day: {aisle}')\n",
    "    plt.xlabel('Day of the Week')\n",
    "    plt.ylabel('Sales')\n",
    "    plt.xticks(ticks=range(0, 7), labels=['Sun', 'Mon', 'Tue', 'Wed', 'Thu', 'Fri', 'Sat'])\n",
    "    \n",
    "    plt.show()\n",
    "    plt.close()  # Close the figure after displaying it\n"
   ]
  },
  {
   "cell_type": "markdown",
   "metadata": {},
   "source": [
    "Dos produtos que mais são vendidos em cada departamento. Em quais dias da semana são mais vendidos?"
   ]
  },
  {
   "cell_type": "code",
   "execution_count": null,
   "metadata": {},
   "outputs": [],
   "source": [
    "\n",
    "\n",
    "# Step 1: Identify the best-selling product in each department\n",
    "best_selling_by_department = (\n",
    "    final_df.groupby(['department', 'product_name'])\n",
    "    .size()\n",
    "    .reset_index(name='sales')\n",
    "    .sort_values(by=['sales'], ascending=[False])\n",
    "    .drop_duplicates(subset=['department'], keep='first')\n",
    ")\n",
    "\n",
    "# Step 2: Analyze sales distribution across the week for each best-selling product in departments\n",
    "for index, row in best_selling_by_department.iterrows():\n",
    "    department = row['department']\n",
    "    product = row['product_name']\n",
    "    \n",
    "    # Filter data for the best-selling product in the current department\n",
    "    product_sales_week = final_df[(final_df['department'] == department) & (final_df['product_name'] == product)]\n",
    "    \n",
    "    # Group by day of the week and count sales\n",
    "    sales_by_day = product_sales_week.groupby('order_dow').size().reset_index(name='sales')\n",
    "    \n",
    "    # Visualization\n",
    "    plt.figure(figsize=(10, 6))\n",
    "    plt.bar(sales_by_day['order_dow'], sales_by_day['sales'], color='skyblue')\n",
    "    plt.title(f'{department} - Best Selling Product Sales by Day: {product}')\n",
    "    plt.xlabel('Day of the Week')\n",
    "    plt.ylabel('Sales')\n",
    "    plt.xticks(ticks=range(0, 7), labels=['Sun', 'Mon', 'Tue', 'Wed', 'Thu', 'Fri', 'Sat'])\n",
    "    \n",
    "    plt.show()\n",
    "    plt.close()  # Close the figure after displaying it\n"
   ]
  },
  {
   "cell_type": "markdown",
   "metadata": {},
   "source": [
    "Qual a quantidade de produtos únicos?\n",
    "\n",
    "Quais os produtos que possuem o maior número de "
   ]
  },
  {
   "cell_type": "code",
   "execution_count": null,
   "metadata": {},
   "outputs": [],
   "source": [
    "order_products_df.head()"
   ]
  },
  {
   "cell_type": "code",
   "execution_count": null,
   "metadata": {},
   "outputs": [],
   "source": [
    "order_products_df.product_id.nunique()"
   ]
  },
  {
   "cell_type": "code",
   "execution_count": null,
   "metadata": {},
   "outputs": [],
   "source": [
    "final_df.head()"
   ]
  },
  {
   "cell_type": "code",
   "execution_count": null,
   "metadata": {},
   "outputs": [],
   "source": [
    "df = final_df[[\"order_id\", \"product_name\", \"product_id\"]].sort_values(by = [\"order_id\", \"product_id\"], ascending = [True, True])\n",
    "df"
   ]
  },
  {
   "cell_type": "code",
   "execution_count": null,
   "metadata": {},
   "outputs": [],
   "source": [
    "df_ = df.groupby(by = [\"product_id\", \"product_name\"]).agg(occurrences = (\"product_id\", \"count\")).sort_values(by = [\"occurrences\"], ascending = [False])\n",
    "df2 = df_[df_.occurrences > 1]\n",
    "df2"
   ]
  },
  {
   "cell_type": "code",
   "execution_count": null,
   "metadata": {},
   "outputs": [],
   "source": [
    "n = 4\n",
    "# top ordered products\n",
    "products_ids = df2.index[:n]\n",
    "products_ids\n",
    "df3 = df[df.product_id.isin(products_ids)].groupby(\"order_id\").agg(qt = (\"order_id\", \"count\"))\n",
    "df3[df3.qt > 1].sort_values(by = [\"qt\"], ascending = [False])\n"
   ]
  },
  {
   "cell_type": "code",
   "execution_count": null,
   "metadata": {},
   "outputs": [],
   "source": []
  },
  {
   "cell_type": "code",
   "execution_count": null,
   "metadata": {},
   "outputs": [],
   "source": [
    "# Bag of Organic Bananas\n",
    "df[(df.product_id == 13176)]"
   ]
  },
  {
   "cell_type": "code",
   "execution_count": null,
   "metadata": {},
   "outputs": [],
   "source": [
    "bananas = df[(df.product_id == 13176)].order_id\n",
    "bananas"
   ]
  },
  {
   "cell_type": "code",
   "execution_count": null,
   "metadata": {},
   "outputs": [],
   "source": [
    "df[df.order_id.isin(bananas)]"
   ]
  },
  {
   "cell_type": "code",
   "execution_count": null,
   "metadata": {},
   "outputs": [],
   "source": []
  },
  {
   "cell_type": "markdown",
   "metadata": {},
   "source": [
    "\n",
    "### 5. **Construção e Avaliação de Modelos**\n",
    "Desenvolver modelos estatísticos ou de aprendizado de máquina para abordar os três objetivos principais:\n"
   ]
  },
  {
   "cell_type": "markdown",
   "metadata": {},
   "source": [
    "\n",
    "# **Segmentação de Clientes**\n",
    "\n",
    "Empregar técnicas de clustering, como K-means, para agrupar clientes com base em comportamento de compra.\n"
   ]
  },
  {
   "cell_type": "markdown",
   "metadata": {},
   "source": [
    "Feature Engineering"
   ]
  },
  {
   "cell_type": "code",
   "execution_count": null,
   "metadata": {},
   "outputs": [],
   "source": [
    "# Calculating order frequency\n",
    "order_frequency = final_df.groupby('user_id')['order_id'].count()\n",
    "\n",
    "# Most common order hour\n",
    "common_order_hour = final_df.groupby('user_id')['order_hour_of_day'].agg(lambda x: x.mode()[0])\n",
    "\n",
    "# Average days since prior order\n",
    "average_days_since_prior = final_df.groupby('user_id')['days_since_prior_order'].mean()\n"
   ]
  },
  {
   "cell_type": "markdown",
   "metadata": {},
   "source": [
    "Clustering"
   ]
  },
  {
   "cell_type": "code",
   "execution_count": null,
   "metadata": {},
   "outputs": [],
   "source": [
    "from sklearn.preprocessing import StandardScaler\n",
    "from sklearn.cluster import KMeans\n",
    "\n",
    "# Dataframe for clustering\n",
    "df_cluster = pd.DataFrame({\n",
    "    'Order Frequency': order_frequency,\n",
    "    'Most Common Order Hour': common_order_hour,\n",
    "    'Average Days Since Prior Order': average_days_since_prior\n",
    "})\n",
    "\n",
    "# Standardizing the data\n",
    "scaler = StandardScaler()\n",
    "df_scaled = scaler.fit_transform(df_cluster.fillna(0))  # Handling NaN values\n",
    "\n",
    "# Clustering\n",
    "kmeans = KMeans(n_clusters=5, random_state=0).fit(df_scaled)\n",
    "df_cluster['Cluster'] = kmeans.labels_\n"
   ]
  },
  {
   "cell_type": "markdown",
   "metadata": {},
   "source": [
    "Analysis of segments"
   ]
  },
  {
   "cell_type": "code",
   "execution_count": null,
   "metadata": {},
   "outputs": [],
   "source": [
    "# Calculating cluster statistics: mean and standard deviation\n",
    "cluster_analysis = df_cluster.groupby('Cluster').agg({\n",
    "    'Order Frequency': ['mean', 'std'],\n",
    "    'Most Common Order Hour': ['mean', 'std'],\n",
    "    'Average Days Since Prior Order': ['mean', 'std'],\n",
    "    'Cluster': 'count'  # Counting the number of users in each cluster\n",
    "})\n",
    "\n",
    "# Renaming columns for clarity\n",
    "cluster_analysis.columns = ['_'.join(col).strip() for col in cluster_analysis.columns.values]\n",
    "\n",
    "cluster_analysis = cluster_analysis.rename(columns={'Cluster_count': 'Number of Customers'})\n",
    "cluster_analysis\n",
    "\n",
    "\n",
    "# Rounding off the results for a cleaner presentation\n",
    "cluster_analysis = cluster_analysis.round(1)\n",
    "\n",
    "cluster_analysis"
   ]
  },
  {
   "cell_type": "markdown",
   "metadata": {},
   "source": [
    "The data provided in the DataFrame offers a detailed view of the characteristics of five customer clusters based on their order frequency, most common order hour, and average days since their last order, along with the variability of these metrics within each cluster. Here’s an analysis of the results along with some strategic recommendations:\n",
    "\n",
    "### Cluster Analysis\n",
    "\n",
    "#### Cluster 0\n",
    "- **Behavior:** Moderate shopping frequency with an average of 8.3 orders, predominantly in the late afternoon (5 PM).\n",
    "- **Purchase Interval:** High, with an average of nearly 28 days between orders.\n",
    "- **Cohesion:** Moderate variability in order frequency and low in order hour, indicating some consistency in shopping habits.\n",
    "- **Recommendation:** As this cluster tends to shop monthly, targeted marketing strategies at the end of each month or monthly deals could be effective.\n",
    "\n",
    "#### Cluster 1\n",
    "- **Behavior:** Similar to Cluster 0 in terms of frequency, but prefers morning shopping (10 AM).\n",
    "- **Purchase Interval:** Low, averaging about 8 days.\n",
    "- **Cohesion:** Similar variability to Cluster 0, indicating a consistent weekly shopping pattern.\n",
    "- **Recommendation:** Focus on weekly promotions or loyalty programs that reward weekly frequency.\n",
    "\n",
    "#### Cluster 2\n",
    "- **Behavior:** Frequent shopping with an average of 26.1 orders, usually after midday.\n",
    "- **Purchase Interval:** Medium, around 17 days.\n",
    "- **Cohesion:** Greater variation in days between orders, suggesting variability in shopping patterns.\n",
    "- **Recommendation:** Offering flexibility and diversity in products, given the variable purchasing behavior. Incentive programs for regular purchases could help standardize shopping behavior.\n",
    "\n",
    "#### Cluster 3\n",
    "- **Behavior:** Similar to Cluster 0 in terms of frequency and interval between purchases, with a preference for morning shopping.\n",
    "- **Cohesion:** High consistency, similar to Clusters 0 and 1.\n",
    "- **Recommendation:** Marketing focused at the start of each month, potentially targeting popular or seasonal products that align with monthly needs.\n",
    "\n",
    "#### Cluster 4\n",
    "- **Behavior:** Slightly more active than Clusters 0 and 3, with frequent shopping and preference for late afternoon.\n",
    "- **Purchase Interval:** Very short, averaging less than 8 days.\n",
    "- **Cohesion:** Similar to other clusters in terms of variation.\n",
    "- **Recommendation:** This cluster could be ideal for flash promotions or short-term deals, leveraging their tendency for frequent shopping.\n",
    "\n",
    "### General Recommendations\n",
    "- **Personalization:** Each cluster exhibits distinct preferences for timing and frequency of shopping, suggesting that personalized marketing strategies, such as targeted emails or deals at specific times, could be effective.\n",
    "- **Loyalty Programs:** Clusters with weekly or bi-weekly frequency (Clusters 1, 2, and 4) might particularly benefit from loyalty programs that encourage maintaining this shopping habit.\n",
    "\n",
    "### Conclusion\n",
    "Utilizing this information to tailor marketing strategies can not only increase the effectiveness of campaigns but also enhance customer satisfaction by offering promotions and products that better meet their shopping needs and habits."
   ]
  },
  {
   "cell_type": "markdown",
   "metadata": {},
   "source": [
    "# **Gestão de Inventário**\n",
    "\n",
    "\n",
    "Construir um modelo preditivo, como regressão ou florestas aleatórias, para prever níveis de estoque necessários, considerando variáveis como dia da semana e hora.\n"
   ]
  },
  {
   "cell_type": "code",
   "execution_count": null,
   "metadata": {},
   "outputs": [],
   "source": [
    "df_dict = {\"aisles\": aisles_df,\n",
    "\"departments\": departments_df,\n",
    "\"order_products\": order_products_df,\n",
    "\"orders\": orders_df,\n",
    "\"products\": products_df}\n",
    "for name, df in df_dict.items():\n",
    "    print(f\"Dados de {name}\")\n",
    "    display(df.info())"
   ]
  },
  {
   "cell_type": "code",
   "execution_count": null,
   "metadata": {},
   "outputs": [],
   "source": []
  },
  {
   "cell_type": "markdown",
   "metadata": {},
   "source": [
    "# **Otimização do Cumprimento de Pedidos**\n",
    "\n",
    "Analisar padrões de pedidos para sugerir melhorias operacionais, potencialmente utilizando algoritmos de otimização.\n",
    "\n",
    "Para cada modelo, avaliar o desempenho usando métricas apropriadas, como precisão, recall, ou coeficiente de silhueta para segmentação.\n"
   ]
  },
  {
   "cell_type": "code",
   "execution_count": null,
   "metadata": {},
   "outputs": [],
   "source": [
    "import pandas as pd\n",
    "from sklearn.model_selection import train_test_split\n",
    "from sklearn.ensemble import RandomForestRegressor\n",
    "from sklearn.metrics import mean_absolute_error\n",
    "\n",
    "# Assume that 'final_df' is already prepared with the necessary columns:\n",
    "# 'product_id', 'aisle_id', 'department_id', 'order_dow', 'order_hour_of_day', and 'add_to_cart_order' as the target variable\n",
    "\n",
    "# Prepare the data by ensuring all categorical variables are converted to numerical codes for modeling\n",
    "final_df['order_dow'] = final_df['order_dow'].astype('category').cat.codes\n",
    "final_df['order_hour_of_day'] = final_df['order_hour_of_day'].astype('category').cat.codes\n",
    "final_df['product_id'] = final_df['product_id'].astype('category').cat.codes\n",
    "final_df['aisle_id'] = final_df['aisle_id'].astype('category').cat.codes\n",
    "final_df['department_id'] = final_df['department_id'].astype('category').cat.codes\n",
    "\n",
    "# Here, we use 'add_to_cart_order' as a proxy for inventory levels if direct inventory data isn't available\n",
    "# This reflects the quantity of product interest or demand per transaction\n",
    "X = final_df[['product_id', 'aisle_id', 'department_id', 'order_dow', 'order_hour_of_day']]\n",
    "y = final_df['add_to_cart_order']  # This assumes that order frequency might reflect demand\n",
    "\n",
    "# Split the data into training and testing sets\n",
    "X_train, X_test, y_train, y_test = train_test_split(X, y, test_size=0.25, random_state=42)\n"
   ]
  },
  {
   "cell_type": "code",
   "execution_count": null,
   "metadata": {},
   "outputs": [],
   "source": [
    "\n",
    "# Model - Using Random Forest\n",
    "model = RandomForestRegressor(n_estimators=100, random_state=42)\n",
    "model.fit(X_train, y_train)\n"
   ]
  },
  {
   "cell_type": "code",
   "execution_count": null,
   "metadata": {},
   "outputs": [],
   "source": [
    "\n",
    "# Predictions on the test set\n",
    "predictions = model.predict(X_test)\n"
   ]
  },
  {
   "cell_type": "code",
   "execution_count": null,
   "metadata": {},
   "outputs": [],
   "source": [
    "\n",
    "# Evaluate the model using Mean Absolute Error\n",
    "mae = mean_absolute_error(y_test, predictions)\n",
    "print(f'Mean Absolute Error: {mae}')\n"
   ]
  },
  {
   "cell_type": "code",
   "execution_count": null,
   "metadata": {},
   "outputs": [],
   "source": [
    "\n",
    "# Include the predictions in the dataframe for review\n",
    "final_df['predicted_demand'] = model.predict(X)\n"
   ]
  },
  {
   "cell_type": "code",
   "execution_count": null,
   "metadata": {},
   "outputs": [],
   "source": [
    "len(final_df)"
   ]
  },
  {
   "cell_type": "code",
   "execution_count": null,
   "metadata": {},
   "outputs": [],
   "source": [
    "final_df.predicted_demand.sum()"
   ]
  },
  {
   "cell_type": "code",
   "execution_count": null,
   "metadata": {},
   "outputs": [],
   "source": [
    "\n",
    "# Output the final DataFrame with predictions for review or use in inventory planning\n",
    "final_df[['product_id', 'department_id', 'aisle_id', 'order_dow', 'order_hour_of_day', 'predicted_demand']] \\\n",
    "    .sort_values(by = ['product_id', 'department_id', 'aisle_id',  'order_dow', 'order_hour_of_day']).head()"
   ]
  },
  {
   "cell_type": "code",
   "execution_count": null,
   "metadata": {},
   "outputs": [],
   "source": []
  },
  {
   "cell_type": "code",
   "execution_count": null,
   "metadata": {},
   "outputs": [],
   "source": [
    "import pandas as pd\n",
    "import matplotlib.pyplot as plt\n",
    "\n",
    "\n",
    "descriptive_stats = final_df['add_to_cart_order'].describe()\n",
    "descriptive_stats\n"
   ]
  },
  {
   "cell_type": "code",
   "execution_count": null,
   "metadata": {},
   "outputs": [],
   "source": [
    "\n",
    "# Histograma para visualizar a distribuição\n",
    "plt.figure(figsize=(10, 6))\n",
    "plt.hist(final_df['add_to_cart_order'], bins=30, color='blue', alpha=0.7)\n",
    "plt.title('Distribuição de Add to Cart Order')\n",
    "plt.xlabel('Quantidade adicionada ao carrinho')\n",
    "plt.ylabel('Frequência')\n",
    "plt.grid(True)\n",
    "plt.show()\n",
    "\n",
    "# Calcular adicionalmente a mediana para entender melhor a distribuição\n",
    "median_value = final_df['add_to_cart_order'].median()\n",
    "print(f\"Mediana de Add to Cart Order: {median_value}\")\n"
   ]
  },
  {
   "cell_type": "code",
   "execution_count": null,
   "metadata": {},
   "outputs": [],
   "source": []
  },
  {
   "cell_type": "code",
   "execution_count": null,
   "metadata": {},
   "outputs": [],
   "source": [
    "import pandas as pd\n",
    "from lightgbm import LGBMRegressor\n",
    "from sklearn.model_selection import train_test_split\n",
    "from sklearn.metrics import mean_absolute_error\n",
    "\n",
    "# Suponha que 'final_df' já esteja preparado com as colunas necessárias:\n",
    "# 'product_id', 'aisle_id', 'department_id', 'order_dow', 'order_hour_of_day', 'quantity'\n",
    "\n",
    "# Configurando 'quantity' assumindo que cada linha representa uma unidade vendida\n",
    "final_df['quantity'] = 1  \n",
    "\n",
    "\n",
    "final_df['product_id'] = final_df['product_id'].astype('category')\n",
    "final_df['aisle_id'] = final_df['aisle_id'].astype('category')\n",
    "final_df['department_id'] = final_df['department_id'].astype('category')\n",
    "final_df['order_dow'] = final_df['order_dow'].astype('category')\n",
    "final_df['order_hour_of_day'] = final_df['order_hour_of_day'].astype('category')\n",
    "\n",
    "\n",
    "# Agregar dados para refletir a demanda total por produto\n",
    "product_demand = final_df.groupby(['product_id', 'aisle_id', 'department_id', 'order_dow', 'order_hour_of_day']) \\\n",
    "    .agg(total_quantity=('quantity', 'sum')).reset_index()\n",
    "\n",
    "# Convertendo características categóricas para o tipo 'category' adequado ao LightGBM\n",
    "for col in ['product_id', 'aisle_id', 'department_id', 'order_dow', 'order_hour_of_day']:\n",
    "    product_demand[col] = product_demand[col].astype('category')\n",
    "\n",
    "# Separar as características e a variável alvo para modelagem\n",
    "X = product_demand[['product_id', 'aisle_id', 'department_id', 'order_dow', 'order_hour_of_day']]\n",
    "y = product_demand['total_quantity']\n",
    "\n",
    "# Dividir os dados em conjuntos de treinamento e teste\n",
    "X_train, X_test, y_train, y_test = train_test_split(X, y, test_size=0.25, random_state=42)\n"
   ]
  },
  {
   "cell_type": "code",
   "execution_count": null,
   "metadata": {},
   "outputs": [],
   "source": [
    "\n",
    "# Configurar o LGBMRegressor\n",
    "lgbm = LGBMRegressor(num_leaves=31, learning_rate=0.05, n_estimators=100)\n"
   ]
  },
  {
   "cell_type": "code",
   "execution_count": null,
   "metadata": {},
   "outputs": [],
   "source": [
    "lgbm.fit(X_train, y_train, eval_set=[(X_test, y_test)], eval_metric='mae', early_stopping_rounds=10)\n",
    "\n",
    "# Predições com o modelo otimizado\n",
    "predictions = lgbm.predict(X_test)\n",
    "\n",
    "# Avaliar o modelo usando Mean Absolute Error\n",
    "mae = mean_absolute_error(y_test, predictions)\n",
    "print(f'Mean Absolute Error with LGBM: {mae}')\n",
    "\n",
    "# Criar DataFrame para exibir previsões junto com as características\n",
    "predictions_df = X_test.copy()\n",
    "predictions_df['predicted_total_quantity'] = predictions\n",
    "predictions_df = predictions_df.sort_values(by=['product_id', 'aisle_id', 'department_id', 'order_dow', 'order_hour_of_day'])\n",
    "print(predictions_df.head())\n"
   ]
  },
  {
   "cell_type": "code",
   "execution_count": null,
   "metadata": {},
   "outputs": [],
   "source": []
  },
  {
   "cell_type": "code",
   "execution_count": null,
   "metadata": {},
   "outputs": [],
   "source": []
  },
  {
   "cell_type": "markdown",
   "metadata": {},
   "source": [
    "\n",
    "### 6. **Conclusões e Insights para Melhoria do Negócio**\n",
    "Consolidar os insights obtidos a partir da análise e modelagem, propondo ações específicas para a ABInBev implementar, visando melhorias nas estratégias de marketing, eficiência do inventário e processos de entrega.\n"
   ]
  },
  {
   "cell_type": "markdown",
   "metadata": {},
   "source": [
    "\n",
    "### 7. **Documentação e Submissão**\n",
    "Documentar meticulosamente todo o processo no Jupyter Notebook, desde a coleta de dados até os insights finais. Preparar o notebook para submissão, garantindo que esteja bem estruturado e fácil de seguir, com código, visualizações e comentários claros.\n",
    "\n",
    "Este roteiro detalha o processo de análise de dados de maneira objetiva, alinhando-se com as práticas esperadas de um cientista de dados sênior, proporcionando uma base sólida para abordar o desafio proposto pela ABInBev de forma eficaz e científica."
   ]
  }
 ],
 "metadata": {
  "kernelspec": {
   "display_name": "abinbev_env",
   "language": "python",
   "name": "python3"
  },
  "language_info": {
   "codemirror_mode": {
    "name": "ipython",
    "version": 3
   },
   "file_extension": ".py",
   "mimetype": "text/x-python",
   "name": "python",
   "nbconvert_exporter": "python",
   "pygments_lexer": "ipython3",
   "version": "3.11.4"
  }
 },
 "nbformat": 4,
 "nbformat_minor": 2
}
